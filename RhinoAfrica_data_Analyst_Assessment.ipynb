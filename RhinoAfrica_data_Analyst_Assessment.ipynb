{
  "cells": [
    {
      "cell_type": "markdown",
      "metadata": {
        "id": "view-in-github",
        "colab_type": "text"
      },
      "source": [
        "<a href=\"https://colab.research.google.com/github/danieloselu3/Rhino-Africa-Data-Analytics/blob/main/RhinoAfrica_data_Analyst_Assessment.ipynb\" target=\"_parent\"><img src=\"https://colab.research.google.com/assets/colab-badge.svg\" alt=\"Open In Colab\"/></a>"
      ]
    },
    {
      "cell_type": "markdown",
      "id": "d465d1c7",
      "metadata": {
        "id": "d465d1c7"
      },
      "source": [
        "# Rhino Africa Data Analysis"
      ]
    },
    {
      "cell_type": "markdown",
      "source": [
        "The aim of this assignment is for me to evaluate my ability to utilize data and to create insightful and accurate reporting by utilizing data analytics tools. Ultimately, this will provide a summary of my ability to use data to deliver actionable and accurate insights that can be useful to a data-driven decision-making organization."
      ],
      "metadata": {
        "id": "yTgBZlD4sOLZ"
      },
      "id": "yTgBZlD4sOLZ"
    },
    {
      "cell_type": "code",
      "execution_count": null,
      "id": "482e179b",
      "metadata": {
        "id": "482e179b"
      },
      "outputs": [],
      "source": [
        "# imports\n",
        "import pandas as pd\n",
        "import numpy as np\n",
        "import pandasql as ps\n",
        "import matplotlib.pyplot as plt"
      ]
    },
    {
      "cell_type": "code",
      "execution_count": null,
      "id": "058cef83",
      "metadata": {
        "id": "058cef83"
      },
      "outputs": [],
      "source": [
        "# add a path to the excel file\n",
        "file_path = './assessment_data.xlsx'\n",
        "\n",
        "# Load the Excel file into a dictionary of dataframes\n",
        "xls = pd.ExcelFile(file_path)\n",
        "\n",
        "# Access individual sheets by their names\n",
        "fact_transaction = pd.read_excel(xls, 'fact_transaction')\n",
        "dim_advertising_cost = pd.read_excel(xls, 'dim_advertising_cost')\n",
        "dim_travel_destination = pd.read_excel(xls, 'dim_travel_destination')\n",
        "dim_consultant = pd.read_excel(xls, 'dim_consultant')\n",
        "dim_customer = pd.read_excel(xls, 'dim_customer')\n",
        "dim_campaign = pd.read_excel(xls, 'dim_campaign')\n",
        "dim_channel = pd.read_excel(xls, 'dim_channel')\n",
        "dim_location = pd.read_excel(xls, 'dim_location')\n",
        "dim_brand = pd.read_excel(xls, 'dim_brand')\n"
      ]
    },
    {
      "cell_type": "markdown",
      "id": "a168c5d8",
      "metadata": {
        "id": "a168c5d8"
      },
      "source": [
        "## Data Cleaning\n",
        "\n",
        "We did an Analysis on the datasets from the excel sheet to see if anyof the data sets needed some data cleaning before we proceed. Of the datasets available, consistensies where found in **dim_advertising_cost**.\n",
        "\n",
        "The data cleaning that was done included:\n",
        "\n",
        "- Duplicates for id 15, **were we saw channel_id 4, that seems incorrect**, as dim_channel only contains 3 channel IDs(1,2and 3). This we concluded was an error and thus **this row was deleted**.\n",
        "\n",
        "- Inconsistent date format for id 22, **where we found the value 2020-\\08-01**, which is not the date format used accross and so this **was changed  to 01/08/2021**.\n",
        "\n",
        "- Typing error for id 37, where we had **250h0000**, we **changed this to 2500000 by removing the 'h'**, and this made sense as it conformed to the values for 01/02/2021 and 01/03/2021.\n",
        "\n",
        "- Missing date for id 52, which we filled with 01/06/2021\n",
        "\n",
        "- There also seemed to be some **issues with id 58 and 59**, as the advert cost for channel 1 was missing while that of channel 2 was present. Channel 2 is however non-paying, and hence **it made sense to switch this amount to channel 1**.\n",
        "\n",
        "Moving forward, we'll look at the datatypes of the columns in eact table to see if they match the dataset they contain."
      ]
    },
    {
      "cell_type": "markdown",
      "id": "23e876d7",
      "metadata": {
        "id": "23e876d7"
      },
      "source": [
        "### 1. channel dimension"
      ]
    },
    {
      "cell_type": "code",
      "execution_count": null,
      "id": "ef01078f",
      "metadata": {
        "id": "ef01078f",
        "outputId": "546a3617-a7e1-492b-97a7-1837d7dbdb17"
      },
      "outputs": [
        {
          "data": {
            "text/html": [
              "<div>\n",
              "<style scoped>\n",
              "    .dataframe tbody tr th:only-of-type {\n",
              "        vertical-align: middle;\n",
              "    }\n",
              "\n",
              "    .dataframe tbody tr th {\n",
              "        vertical-align: top;\n",
              "    }\n",
              "\n",
              "    .dataframe thead th {\n",
              "        text-align: right;\n",
              "    }\n",
              "</style>\n",
              "<table border=\"1\" class=\"dataframe\">\n",
              "  <thead>\n",
              "    <tr style=\"text-align: right;\">\n",
              "      <th></th>\n",
              "      <th>id</th>\n",
              "      <th>channel</th>\n",
              "      <th>created_at</th>\n",
              "      <th>updated_at</th>\n",
              "    </tr>\n",
              "  </thead>\n",
              "  <tbody>\n",
              "    <tr>\n",
              "      <th>0</th>\n",
              "      <td>1</td>\n",
              "      <td>Paid</td>\n",
              "      <td>2019-05-12</td>\n",
              "      <td>2019-05-12</td>\n",
              "    </tr>\n",
              "    <tr>\n",
              "      <th>1</th>\n",
              "      <td>2</td>\n",
              "      <td>Non-Paid</td>\n",
              "      <td>2018-11-11</td>\n",
              "      <td>2018-11-11</td>\n",
              "    </tr>\n",
              "    <tr>\n",
              "      <th>2</th>\n",
              "      <td>3</td>\n",
              "      <td>Offline</td>\n",
              "      <td>2018-02-11</td>\n",
              "      <td>2018-02-11</td>\n",
              "    </tr>\n",
              "  </tbody>\n",
              "</table>\n",
              "</div>"
            ],
            "text/plain": [
              "   id   channel created_at updated_at\n",
              "0   1      Paid 2019-05-12 2019-05-12\n",
              "1   2  Non-Paid 2018-11-11 2018-11-11\n",
              "2   3   Offline 2018-02-11 2018-02-11"
            ]
          },
          "execution_count": 3,
          "metadata": {},
          "output_type": "execute_result"
        }
      ],
      "source": [
        "# check for the top records\n",
        "dim_channel.head()"
      ]
    },
    {
      "cell_type": "code",
      "execution_count": null,
      "id": "2ff435ba",
      "metadata": {
        "id": "2ff435ba",
        "outputId": "829d2d52-6537-4fc9-d8b8-eb9940047f6c"
      },
      "outputs": [
        {
          "name": "stdout",
          "output_type": "stream",
          "text": [
            "<class 'pandas.core.frame.DataFrame'>\n",
            "RangeIndex: 3 entries, 0 to 2\n",
            "Data columns (total 4 columns):\n",
            " #   Column      Non-Null Count  Dtype         \n",
            "---  ------      --------------  -----         \n",
            " 0   id          3 non-null      int64         \n",
            " 1   channel     3 non-null      object        \n",
            " 2   created_at  3 non-null      datetime64[ns]\n",
            " 3   updated_at  3 non-null      datetime64[ns]\n",
            "dtypes: datetime64[ns](2), int64(1), object(1)\n",
            "memory usage: 228.0+ bytes\n"
          ]
        }
      ],
      "source": [
        "# overview of the column datatypes\n",
        "dim_channel.info()"
      ]
    },
    {
      "cell_type": "markdown",
      "id": "8ee1f259",
      "metadata": {
        "id": "8ee1f259"
      },
      "source": [
        "From the above output, we can see that datatypes in channel are assigned correctly and no cleaning will be needed"
      ]
    },
    {
      "cell_type": "markdown",
      "id": "d8b6cd78",
      "metadata": {
        "id": "d8b6cd78"
      },
      "source": [
        "### 2. brand dimension"
      ]
    },
    {
      "cell_type": "code",
      "execution_count": null,
      "id": "73c40744",
      "metadata": {
        "id": "73c40744",
        "outputId": "aa2b6d7e-b9d8-4459-e5c8-189f10bcefc1"
      },
      "outputs": [
        {
          "name": "stdout",
          "output_type": "stream",
          "text": [
            "<class 'pandas.core.frame.DataFrame'>\n",
            "RangeIndex: 9 entries, 0 to 8\n",
            "Data columns (total 4 columns):\n",
            " #   Column      Non-Null Count  Dtype         \n",
            "---  ------      --------------  -----         \n",
            " 0   id          9 non-null      int64         \n",
            " 1   brand       9 non-null      object        \n",
            " 2   created_at  9 non-null      datetime64[ns]\n",
            " 3   updated_at  9 non-null      datetime64[ns]\n",
            "dtypes: datetime64[ns](2), int64(1), object(1)\n",
            "memory usage: 420.0+ bytes\n"
          ]
        }
      ],
      "source": [
        "# check for the high level overview of columns\n",
        "dim_brand.info()"
      ]
    },
    {
      "cell_type": "code",
      "execution_count": null,
      "id": "e5d7d902",
      "metadata": {
        "id": "e5d7d902",
        "outputId": "13a4e8b8-16a6-43f3-f5a1-2e6c321c2183"
      },
      "outputs": [
        {
          "data": {
            "text/html": [
              "<div>\n",
              "<style scoped>\n",
              "    .dataframe tbody tr th:only-of-type {\n",
              "        vertical-align: middle;\n",
              "    }\n",
              "\n",
              "    .dataframe tbody tr th {\n",
              "        vertical-align: top;\n",
              "    }\n",
              "\n",
              "    .dataframe thead th {\n",
              "        text-align: right;\n",
              "    }\n",
              "</style>\n",
              "<table border=\"1\" class=\"dataframe\">\n",
              "  <thead>\n",
              "    <tr style=\"text-align: right;\">\n",
              "      <th></th>\n",
              "      <th>id</th>\n",
              "      <th>brand</th>\n",
              "      <th>created_at</th>\n",
              "      <th>updated_at</th>\n",
              "    </tr>\n",
              "  </thead>\n",
              "  <tbody>\n",
              "    <tr>\n",
              "      <th>0</th>\n",
              "      <td>1</td>\n",
              "      <td>RAS</td>\n",
              "      <td>2018-02-14</td>\n",
              "      <td>2018-02-14</td>\n",
              "    </tr>\n",
              "    <tr>\n",
              "      <th>1</th>\n",
              "      <td>2</td>\n",
              "      <td>O2A</td>\n",
              "      <td>2018-09-08</td>\n",
              "      <td>2018-09-08</td>\n",
              "    </tr>\n",
              "    <tr>\n",
              "      <th>2</th>\n",
              "      <td>3</td>\n",
              "      <td>IC</td>\n",
              "      <td>2019-09-15</td>\n",
              "      <td>2019-09-15</td>\n",
              "    </tr>\n",
              "    <tr>\n",
              "      <th>3</th>\n",
              "      <td>4</td>\n",
              "      <td>EH</td>\n",
              "      <td>2019-09-01</td>\n",
              "      <td>2019-09-01</td>\n",
              "    </tr>\n",
              "    <tr>\n",
              "      <th>4</th>\n",
              "      <td>5</td>\n",
              "      <td>CH</td>\n",
              "      <td>2018-10-03</td>\n",
              "      <td>2018-10-03</td>\n",
              "    </tr>\n",
              "  </tbody>\n",
              "</table>\n",
              "</div>"
            ],
            "text/plain": [
              "   id brand created_at updated_at\n",
              "0   1   RAS 2018-02-14 2018-02-14\n",
              "1   2   O2A 2018-09-08 2018-09-08\n",
              "2   3    IC 2019-09-15 2019-09-15\n",
              "3   4    EH 2019-09-01 2019-09-01\n",
              "4   5    CH 2018-10-03 2018-10-03"
            ]
          },
          "execution_count": 6,
          "metadata": {},
          "output_type": "execute_result"
        }
      ],
      "source": [
        "# top 5 values on the table\n",
        "dim_brand.head(5)"
      ]
    },
    {
      "cell_type": "markdown",
      "id": "5a9e1bfa",
      "metadata": {
        "id": "5a9e1bfa"
      },
      "source": [
        "From the analysis, values in brand dimension seem to have the datatypes assigned correctly"
      ]
    },
    {
      "cell_type": "markdown",
      "id": "6e013473",
      "metadata": {
        "id": "6e013473"
      },
      "source": [
        "### 3. campaign dimension"
      ]
    },
    {
      "cell_type": "code",
      "execution_count": null,
      "id": "4ac5898f",
      "metadata": {
        "id": "4ac5898f",
        "outputId": "c68d1d0f-b986-4116-8b06-1179ae0508c4"
      },
      "outputs": [
        {
          "name": "stdout",
          "output_type": "stream",
          "text": [
            "<class 'pandas.core.frame.DataFrame'>\n",
            "RangeIndex: 7 entries, 0 to 6\n",
            "Data columns (total 4 columns):\n",
            " #   Column         Non-Null Count  Dtype         \n",
            "---  ------         --------------  -----         \n",
            " 0   id             7 non-null      int64         \n",
            " 1   campaign_name  7 non-null      object        \n",
            " 2   created_at     7 non-null      datetime64[ns]\n",
            " 3   updated_at     7 non-null      datetime64[ns]\n",
            "dtypes: datetime64[ns](2), int64(1), object(1)\n",
            "memory usage: 356.0+ bytes\n"
          ]
        }
      ],
      "source": [
        "# high level overview of the columns\n",
        "dim_campaign.info()"
      ]
    },
    {
      "cell_type": "code",
      "execution_count": null,
      "id": "fee8a4fd",
      "metadata": {
        "id": "fee8a4fd",
        "outputId": "580da2cf-c945-49d9-f03c-c905d8727256"
      },
      "outputs": [
        {
          "data": {
            "text/html": [
              "<div>\n",
              "<style scoped>\n",
              "    .dataframe tbody tr th:only-of-type {\n",
              "        vertical-align: middle;\n",
              "    }\n",
              "\n",
              "    .dataframe tbody tr th {\n",
              "        vertical-align: top;\n",
              "    }\n",
              "\n",
              "    .dataframe thead th {\n",
              "        text-align: right;\n",
              "    }\n",
              "</style>\n",
              "<table border=\"1\" class=\"dataframe\">\n",
              "  <thead>\n",
              "    <tr style=\"text-align: right;\">\n",
              "      <th></th>\n",
              "      <th>id</th>\n",
              "      <th>campaign_name</th>\n",
              "      <th>created_at</th>\n",
              "      <th>updated_at</th>\n",
              "    </tr>\n",
              "  </thead>\n",
              "  <tbody>\n",
              "    <tr>\n",
              "      <th>0</th>\n",
              "      <td>1</td>\n",
              "      <td>PMAX_supplier</td>\n",
              "      <td>2019-05-12</td>\n",
              "      <td>2019-05-12</td>\n",
              "    </tr>\n",
              "    <tr>\n",
              "      <th>1</th>\n",
              "      <td>2</td>\n",
              "      <td>PMAX_brands</td>\n",
              "      <td>2018-11-11</td>\n",
              "      <td>2018-11-11</td>\n",
              "    </tr>\n",
              "    <tr>\n",
              "      <th>2</th>\n",
              "      <td>3</td>\n",
              "      <td>PMAX_shopping</td>\n",
              "      <td>2018-02-11</td>\n",
              "      <td>2018-02-11</td>\n",
              "    </tr>\n",
              "    <tr>\n",
              "      <th>3</th>\n",
              "      <td>4</td>\n",
              "      <td>BDay_supplier</td>\n",
              "      <td>2019-07-25</td>\n",
              "      <td>2019-07-25</td>\n",
              "    </tr>\n",
              "    <tr>\n",
              "      <th>4</th>\n",
              "      <td>5</td>\n",
              "      <td>Destination_Kruger Park</td>\n",
              "      <td>2018-01-18</td>\n",
              "      <td>2018-01-18</td>\n",
              "    </tr>\n",
              "  </tbody>\n",
              "</table>\n",
              "</div>"
            ],
            "text/plain": [
              "   id            campaign_name created_at updated_at\n",
              "0   1            PMAX_supplier 2019-05-12 2019-05-12\n",
              "1   2              PMAX_brands 2018-11-11 2018-11-11\n",
              "2   3            PMAX_shopping 2018-02-11 2018-02-11\n",
              "3   4            BDay_supplier 2019-07-25 2019-07-25\n",
              "4   5  Destination_Kruger Park 2018-01-18 2018-01-18"
            ]
          },
          "execution_count": 8,
          "metadata": {},
          "output_type": "execute_result"
        }
      ],
      "source": [
        "# a look into some sample values\n",
        "dim_campaign.head(5)"
      ]
    },
    {
      "cell_type": "markdown",
      "id": "2e3763b0",
      "metadata": {
        "id": "2e3763b0"
      },
      "source": [
        "From the above overview, the datatypes in Campaign seem to be assigned properly"
      ]
    },
    {
      "cell_type": "markdown",
      "id": "a4e5d1c7",
      "metadata": {
        "id": "a4e5d1c7"
      },
      "source": [
        "### 4. Location dimension"
      ]
    },
    {
      "cell_type": "code",
      "execution_count": null,
      "id": "723d0281",
      "metadata": {
        "id": "723d0281",
        "outputId": "4a001c27-f9af-4113-8fa4-9c6f30c9b79f"
      },
      "outputs": [
        {
          "name": "stdout",
          "output_type": "stream",
          "text": [
            "<class 'pandas.core.frame.DataFrame'>\n",
            "RangeIndex: 66 entries, 0 to 65\n",
            "Data columns (total 5 columns):\n",
            " #   Column      Non-Null Count  Dtype         \n",
            "---  ------      --------------  -----         \n",
            " 0   id          66 non-null     int64         \n",
            " 1   region      66 non-null     object        \n",
            " 2   country     66 non-null     object        \n",
            " 3   created_at  66 non-null     datetime64[ns]\n",
            " 4   updated_at  66 non-null     datetime64[ns]\n",
            "dtypes: datetime64[ns](2), int64(1), object(2)\n",
            "memory usage: 2.7+ KB\n"
          ]
        }
      ],
      "source": [
        "# high level column overview\n",
        "dim_location.info()"
      ]
    },
    {
      "cell_type": "markdown",
      "id": "20bfa210",
      "metadata": {
        "id": "20bfa210"
      },
      "source": [
        "From the info on the table columns, we can see that the columns have the right datatypes."
      ]
    },
    {
      "cell_type": "code",
      "execution_count": null,
      "id": "ba138860",
      "metadata": {
        "id": "ba138860",
        "outputId": "475e146b-e013-464d-8096-7854b16190e1"
      },
      "outputs": [
        {
          "data": {
            "text/html": [
              "<div>\n",
              "<style scoped>\n",
              "    .dataframe tbody tr th:only-of-type {\n",
              "        vertical-align: middle;\n",
              "    }\n",
              "\n",
              "    .dataframe tbody tr th {\n",
              "        vertical-align: top;\n",
              "    }\n",
              "\n",
              "    .dataframe thead th {\n",
              "        text-align: right;\n",
              "    }\n",
              "</style>\n",
              "<table border=\"1\" class=\"dataframe\">\n",
              "  <thead>\n",
              "    <tr style=\"text-align: right;\">\n",
              "      <th></th>\n",
              "      <th>id</th>\n",
              "      <th>region</th>\n",
              "      <th>country</th>\n",
              "      <th>created_at</th>\n",
              "      <th>updated_at</th>\n",
              "    </tr>\n",
              "  </thead>\n",
              "  <tbody>\n",
              "    <tr>\n",
              "      <th>0</th>\n",
              "      <td>1</td>\n",
              "      <td>Africa</td>\n",
              "      <td>Angola</td>\n",
              "      <td>2018-05-10</td>\n",
              "      <td>2018-05-10</td>\n",
              "    </tr>\n",
              "    <tr>\n",
              "      <th>1</th>\n",
              "      <td>2</td>\n",
              "      <td>Latam</td>\n",
              "      <td>Argentina</td>\n",
              "      <td>2019-08-07</td>\n",
              "      <td>2019-08-07</td>\n",
              "    </tr>\n",
              "    <tr>\n",
              "      <th>2</th>\n",
              "      <td>3</td>\n",
              "      <td>Australasia</td>\n",
              "      <td>Australia</td>\n",
              "      <td>2018-06-13</td>\n",
              "      <td>2018-06-13</td>\n",
              "    </tr>\n",
              "    <tr>\n",
              "      <th>3</th>\n",
              "      <td>4</td>\n",
              "      <td>Europe</td>\n",
              "      <td>Austria</td>\n",
              "      <td>2019-01-19</td>\n",
              "      <td>2019-01-19</td>\n",
              "    </tr>\n",
              "    <tr>\n",
              "      <th>4</th>\n",
              "      <td>5</td>\n",
              "      <td>Europe</td>\n",
              "      <td>Belgium</td>\n",
              "      <td>2019-10-02</td>\n",
              "      <td>2019-10-02</td>\n",
              "    </tr>\n",
              "  </tbody>\n",
              "</table>\n",
              "</div>"
            ],
            "text/plain": [
              "   id       region    country created_at updated_at\n",
              "0   1       Africa     Angola 2018-05-10 2018-05-10\n",
              "1   2        Latam  Argentina 2019-08-07 2019-08-07\n",
              "2   3  Australasia  Australia 2018-06-13 2018-06-13\n",
              "3   4       Europe    Austria 2019-01-19 2019-01-19\n",
              "4   5       Europe    Belgium 2019-10-02 2019-10-02"
            ]
          },
          "execution_count": 10,
          "metadata": {},
          "output_type": "execute_result"
        }
      ],
      "source": [
        "# a look into the top 5 values in the dataset\n",
        "dim_location.head()"
      ]
    },
    {
      "cell_type": "markdown",
      "id": "0662e7f2",
      "metadata": {
        "id": "0662e7f2"
      },
      "source": [
        "### 5. advertising cost dimension"
      ]
    },
    {
      "cell_type": "code",
      "execution_count": null,
      "id": "df049454",
      "metadata": {
        "id": "df049454",
        "outputId": "945a1029-d574-4f6d-db8b-0c27fe869f8a"
      },
      "outputs": [
        {
          "name": "stdout",
          "output_type": "stream",
          "text": [
            "<class 'pandas.core.frame.DataFrame'>\n",
            "RangeIndex: 72 entries, 0 to 71\n",
            "Data columns (total 6 columns):\n",
            " #   Column            Non-Null Count  Dtype         \n",
            "---  ------            --------------  -----         \n",
            " 0   id                72 non-null     int64         \n",
            " 1   date              72 non-null     datetime64[ns]\n",
            " 2   channel_id        72 non-null     int64         \n",
            " 3   advertising_cost  72 non-null     int64         \n",
            " 4   created_at        72 non-null     object        \n",
            " 5   updated_at        72 non-null     object        \n",
            "dtypes: datetime64[ns](1), int64(3), object(2)\n",
            "memory usage: 3.5+ KB\n"
          ]
        }
      ],
      "source": [
        "# high overview of the table\n",
        "dim_advertising_cost.info()"
      ]
    },
    {
      "cell_type": "markdown",
      "id": "9c366e7b",
      "metadata": {
        "id": "9c366e7b"
      },
      "source": [
        "From the above output, we can see that some data types are not consistent with the value contained in the column, **created_at** and **updated_at** are timestamp columns but the datatype is object, this will need to be adjusted."
      ]
    },
    {
      "cell_type": "code",
      "execution_count": null,
      "id": "5ed777d0",
      "metadata": {
        "id": "5ed777d0"
      },
      "outputs": [],
      "source": [
        "# Convert the 3 columns to datetime\n",
        "date_columns = ['created_at', 'updated_at']\n",
        "\n",
        "for column in date_columns:\n",
        "    dim_advertising_cost[column] = pd.to_datetime(dim_advertising_cost[column])"
      ]
    },
    {
      "cell_type": "code",
      "execution_count": null,
      "id": "1b3c79ed",
      "metadata": {
        "id": "1b3c79ed",
        "outputId": "5da9a8d6-9523-41fb-d66d-5a8ed7b85faf"
      },
      "outputs": [
        {
          "name": "stdout",
          "output_type": "stream",
          "text": [
            "<class 'pandas.core.frame.DataFrame'>\n",
            "RangeIndex: 72 entries, 0 to 71\n",
            "Data columns (total 6 columns):\n",
            " #   Column            Non-Null Count  Dtype         \n",
            "---  ------            --------------  -----         \n",
            " 0   id                72 non-null     int64         \n",
            " 1   date              72 non-null     datetime64[ns]\n",
            " 2   channel_id        72 non-null     int64         \n",
            " 3   advertising_cost  72 non-null     int64         \n",
            " 4   created_at        72 non-null     datetime64[ns]\n",
            " 5   updated_at        72 non-null     datetime64[ns]\n",
            "dtypes: datetime64[ns](3), int64(3)\n",
            "memory usage: 3.5 KB\n"
          ]
        }
      ],
      "source": [
        "# Confirm the datatypes of the columns\n",
        "dim_advertising_cost.info()"
      ]
    },
    {
      "cell_type": "markdown",
      "id": "3d403337",
      "metadata": {
        "id": "3d403337"
      },
      "source": [
        "### 6. fact transaction"
      ]
    },
    {
      "cell_type": "code",
      "execution_count": null,
      "id": "c7301152",
      "metadata": {
        "id": "c7301152",
        "outputId": "07469b52-36fc-431b-de11-0a8cc2af070c"
      },
      "outputs": [
        {
          "name": "stdout",
          "output_type": "stream",
          "text": [
            "<class 'pandas.core.frame.DataFrame'>\n",
            "RangeIndex: 10000 entries, 0 to 9999\n",
            "Data columns (total 16 columns):\n",
            " #   Column                 Non-Null Count  Dtype         \n",
            "---  ------                 --------------  -----         \n",
            " 0   id                     10000 non-null  int64         \n",
            " 1   date                   10000 non-null  datetime64[ns]\n",
            " 2   transaction_id         10000 non-null  int64         \n",
            " 3   brand_id               10000 non-null  int64         \n",
            " 4   location_id            10000 non-null  int64         \n",
            " 5   channel_id             10000 non-null  int64         \n",
            " 6   campaign_id            10000 non-null  int64         \n",
            " 7   keyword                10000 non-null  object        \n",
            " 8   customer_id            10000 non-null  int64         \n",
            " 9   consultant_id          10000 non-null  int64         \n",
            " 10  travel_destination_id  10000 non-null  int64         \n",
            " 11  revenue_incl_VAT       10000 non-null  float64       \n",
            " 12  revenue_excl_VAT       10000 non-null  float64       \n",
            " 13  cost_to_supplier       10000 non-null  float64       \n",
            " 14  created_at             10000 non-null  datetime64[ns]\n",
            " 15  updated_at             10000 non-null  datetime64[ns]\n",
            "dtypes: datetime64[ns](3), float64(3), int64(9), object(1)\n",
            "memory usage: 1.2+ MB\n"
          ]
        }
      ],
      "source": [
        "# high level column overview\n",
        "fact_transaction.info()"
      ]
    },
    {
      "cell_type": "code",
      "execution_count": null,
      "id": "f20e2d54",
      "metadata": {
        "id": "f20e2d54",
        "outputId": "ead3449b-2a93-421e-f493-f697c0bb76db"
      },
      "outputs": [
        {
          "data": {
            "text/html": [
              "<div>\n",
              "<style scoped>\n",
              "    .dataframe tbody tr th:only-of-type {\n",
              "        vertical-align: middle;\n",
              "    }\n",
              "\n",
              "    .dataframe tbody tr th {\n",
              "        vertical-align: top;\n",
              "    }\n",
              "\n",
              "    .dataframe thead th {\n",
              "        text-align: right;\n",
              "    }\n",
              "</style>\n",
              "<table border=\"1\" class=\"dataframe\">\n",
              "  <thead>\n",
              "    <tr style=\"text-align: right;\">\n",
              "      <th></th>\n",
              "      <th>id</th>\n",
              "      <th>date</th>\n",
              "      <th>transaction_id</th>\n",
              "      <th>brand_id</th>\n",
              "      <th>location_id</th>\n",
              "      <th>channel_id</th>\n",
              "      <th>campaign_id</th>\n",
              "      <th>keyword</th>\n",
              "      <th>customer_id</th>\n",
              "      <th>consultant_id</th>\n",
              "      <th>travel_destination_id</th>\n",
              "      <th>revenue_incl_VAT</th>\n",
              "      <th>revenue_excl_VAT</th>\n",
              "      <th>cost_to_supplier</th>\n",
              "      <th>created_at</th>\n",
              "      <th>updated_at</th>\n",
              "    </tr>\n",
              "  </thead>\n",
              "  <tbody>\n",
              "    <tr>\n",
              "      <th>0</th>\n",
              "      <td>1</td>\n",
              "      <td>2021-05-05</td>\n",
              "      <td>105694821</td>\n",
              "      <td>4</td>\n",
              "      <td>47</td>\n",
              "      <td>2</td>\n",
              "      <td>5</td>\n",
              "      <td>(not set)</td>\n",
              "      <td>10288</td>\n",
              "      <td>101</td>\n",
              "      <td>21</td>\n",
              "      <td>184844.70</td>\n",
              "      <td>160734.521739</td>\n",
              "      <td>184844.70</td>\n",
              "      <td>2021-05-05</td>\n",
              "      <td>2021-05-03</td>\n",
              "    </tr>\n",
              "    <tr>\n",
              "      <th>1</th>\n",
              "      <td>2</td>\n",
              "      <td>2021-02-21</td>\n",
              "      <td>105694822</td>\n",
              "      <td>8</td>\n",
              "      <td>40</td>\n",
              "      <td>2</td>\n",
              "      <td>4</td>\n",
              "      <td>(not provided)</td>\n",
              "      <td>10114</td>\n",
              "      <td>141</td>\n",
              "      <td>13</td>\n",
              "      <td>247200.00</td>\n",
              "      <td>214956.521739</td>\n",
              "      <td>197760.00</td>\n",
              "      <td>2021-02-21</td>\n",
              "      <td>2021-02-25</td>\n",
              "    </tr>\n",
              "    <tr>\n",
              "      <th>2</th>\n",
              "      <td>3</td>\n",
              "      <td>2021-07-11</td>\n",
              "      <td>105694823</td>\n",
              "      <td>6</td>\n",
              "      <td>33</td>\n",
              "      <td>3</td>\n",
              "      <td>6</td>\n",
              "      <td>(not provided)</td>\n",
              "      <td>10318</td>\n",
              "      <td>148</td>\n",
              "      <td>18</td>\n",
              "      <td>294393.75</td>\n",
              "      <td>255994.565217</td>\n",
              "      <td>176636.25</td>\n",
              "      <td>2021-07-11</td>\n",
              "      <td>2021-07-06</td>\n",
              "    </tr>\n",
              "    <tr>\n",
              "      <th>3</th>\n",
              "      <td>4</td>\n",
              "      <td>2020-05-05</td>\n",
              "      <td>105694824</td>\n",
              "      <td>4</td>\n",
              "      <td>43</td>\n",
              "      <td>2</td>\n",
              "      <td>7</td>\n",
              "      <td>(not provided)</td>\n",
              "      <td>10270</td>\n",
              "      <td>113</td>\n",
              "      <td>18</td>\n",
              "      <td>233949.24</td>\n",
              "      <td>203434.121739</td>\n",
              "      <td>233949.24</td>\n",
              "      <td>2020-05-05</td>\n",
              "      <td>2020-05-09</td>\n",
              "    </tr>\n",
              "    <tr>\n",
              "      <th>4</th>\n",
              "      <td>5</td>\n",
              "      <td>2020-10-12</td>\n",
              "      <td>105694825</td>\n",
              "      <td>3</td>\n",
              "      <td>55</td>\n",
              "      <td>3</td>\n",
              "      <td>5</td>\n",
              "      <td>(not provided)</td>\n",
              "      <td>10397</td>\n",
              "      <td>142</td>\n",
              "      <td>16</td>\n",
              "      <td>135771.30</td>\n",
              "      <td>118062.000000</td>\n",
              "      <td>122194.17</td>\n",
              "      <td>2020-10-12</td>\n",
              "      <td>2020-10-16</td>\n",
              "    </tr>\n",
              "  </tbody>\n",
              "</table>\n",
              "</div>"
            ],
            "text/plain": [
              "   id       date  transaction_id  brand_id  location_id  channel_id  \\\n",
              "0   1 2021-05-05       105694821         4           47           2   \n",
              "1   2 2021-02-21       105694822         8           40           2   \n",
              "2   3 2021-07-11       105694823         6           33           3   \n",
              "3   4 2020-05-05       105694824         4           43           2   \n",
              "4   5 2020-10-12       105694825         3           55           3   \n",
              "\n",
              "   campaign_id         keyword  customer_id  consultant_id  \\\n",
              "0            5       (not set)        10288            101   \n",
              "1            4  (not provided)        10114            141   \n",
              "2            6  (not provided)        10318            148   \n",
              "3            7  (not provided)        10270            113   \n",
              "4            5  (not provided)        10397            142   \n",
              "\n",
              "   travel_destination_id  revenue_incl_VAT  revenue_excl_VAT  \\\n",
              "0                     21         184844.70     160734.521739   \n",
              "1                     13         247200.00     214956.521739   \n",
              "2                     18         294393.75     255994.565217   \n",
              "3                     18         233949.24     203434.121739   \n",
              "4                     16         135771.30     118062.000000   \n",
              "\n",
              "   cost_to_supplier created_at updated_at  \n",
              "0         184844.70 2021-05-05 2021-05-03  \n",
              "1         197760.00 2021-02-21 2021-02-25  \n",
              "2         176636.25 2021-07-11 2021-07-06  \n",
              "3         233949.24 2020-05-05 2020-05-09  \n",
              "4         122194.17 2020-10-12 2020-10-16  "
            ]
          },
          "execution_count": 15,
          "metadata": {},
          "output_type": "execute_result"
        }
      ],
      "source": [
        "# high level record overview\n",
        "fact_transaction.head()"
      ]
    },
    {
      "cell_type": "markdown",
      "id": "54a5c493",
      "metadata": {
        "id": "54a5c493"
      },
      "source": [
        "The fact seems to contain all the columns in the right format as well."
      ]
    },
    {
      "cell_type": "markdown",
      "id": "ee3f1380",
      "metadata": {
        "id": "ee3f1380"
      },
      "source": [
        "### 7. dim travel destination"
      ]
    },
    {
      "cell_type": "code",
      "execution_count": null,
      "id": "28a58d3b",
      "metadata": {
        "id": "28a58d3b",
        "outputId": "9922a3e0-7363-4dfe-c7e3-09ab4f4d1fa6"
      },
      "outputs": [
        {
          "name": "stdout",
          "output_type": "stream",
          "text": [
            "<class 'pandas.core.frame.DataFrame'>\n",
            "RangeIndex: 25 entries, 0 to 24\n",
            "Data columns (total 4 columns):\n",
            " #   Column              Non-Null Count  Dtype         \n",
            "---  ------              --------------  -----         \n",
            " 0   id                  25 non-null     int64         \n",
            " 1   travel_destination  25 non-null     object        \n",
            " 2   created_at          25 non-null     datetime64[ns]\n",
            " 3   updated_at          25 non-null     datetime64[ns]\n",
            "dtypes: datetime64[ns](2), int64(1), object(1)\n",
            "memory usage: 932.0+ bytes\n"
          ]
        }
      ],
      "source": [
        "# high level column overview\n",
        "dim_travel_destination.info()"
      ]
    },
    {
      "cell_type": "code",
      "execution_count": null,
      "id": "28d3a846",
      "metadata": {
        "id": "28d3a846",
        "outputId": "c8ed6deb-1825-4a34-d472-87c0ca9de074"
      },
      "outputs": [
        {
          "data": {
            "text/html": [
              "<div>\n",
              "<style scoped>\n",
              "    .dataframe tbody tr th:only-of-type {\n",
              "        vertical-align: middle;\n",
              "    }\n",
              "\n",
              "    .dataframe tbody tr th {\n",
              "        vertical-align: top;\n",
              "    }\n",
              "\n",
              "    .dataframe thead th {\n",
              "        text-align: right;\n",
              "    }\n",
              "</style>\n",
              "<table border=\"1\" class=\"dataframe\">\n",
              "  <thead>\n",
              "    <tr style=\"text-align: right;\">\n",
              "      <th></th>\n",
              "      <th>id</th>\n",
              "      <th>travel_destination</th>\n",
              "      <th>created_at</th>\n",
              "      <th>updated_at</th>\n",
              "    </tr>\n",
              "  </thead>\n",
              "  <tbody>\n",
              "    <tr>\n",
              "      <th>0</th>\n",
              "      <td>1</td>\n",
              "      <td>Gauteng</td>\n",
              "      <td>2019-10-28</td>\n",
              "      <td>2019-10-28</td>\n",
              "    </tr>\n",
              "    <tr>\n",
              "      <th>1</th>\n",
              "      <td>2</td>\n",
              "      <td>Greater Kruger Area</td>\n",
              "      <td>2018-11-04</td>\n",
              "      <td>2018-11-04</td>\n",
              "    </tr>\n",
              "    <tr>\n",
              "      <th>2</th>\n",
              "      <td>3</td>\n",
              "      <td>Namib Desert</td>\n",
              "      <td>2019-08-25</td>\n",
              "      <td>2019-08-25</td>\n",
              "    </tr>\n",
              "    <tr>\n",
              "      <th>3</th>\n",
              "      <td>4</td>\n",
              "      <td>Central Namibia</td>\n",
              "      <td>2019-06-29</td>\n",
              "      <td>2019-06-29</td>\n",
              "    </tr>\n",
              "    <tr>\n",
              "      <th>4</th>\n",
              "      <td>5</td>\n",
              "      <td>Damaraland</td>\n",
              "      <td>2018-02-20</td>\n",
              "      <td>2018-02-20</td>\n",
              "    </tr>\n",
              "  </tbody>\n",
              "</table>\n",
              "</div>"
            ],
            "text/plain": [
              "   id   travel_destination created_at updated_at\n",
              "0   1              Gauteng 2019-10-28 2019-10-28\n",
              "1   2  Greater Kruger Area 2018-11-04 2018-11-04\n",
              "2   3         Namib Desert 2019-08-25 2019-08-25\n",
              "3   4      Central Namibia 2019-06-29 2019-06-29\n",
              "4   5           Damaraland 2018-02-20 2018-02-20"
            ]
          },
          "execution_count": 17,
          "metadata": {},
          "output_type": "execute_result"
        }
      ],
      "source": [
        "# high level record overview\n",
        "dim_travel_destination.head()"
      ]
    },
    {
      "cell_type": "markdown",
      "id": "d7b0cbbb",
      "metadata": {
        "id": "d7b0cbbb"
      },
      "source": [
        "### 8. dim consultant"
      ]
    },
    {
      "cell_type": "code",
      "execution_count": null,
      "id": "487ef9b8",
      "metadata": {
        "id": "487ef9b8",
        "outputId": "9533fe50-652c-4a92-cf21-9e111f9484d3"
      },
      "outputs": [
        {
          "name": "stdout",
          "output_type": "stream",
          "text": [
            "<class 'pandas.core.frame.DataFrame'>\n",
            "RangeIndex: 50 entries, 0 to 49\n",
            "Data columns (total 4 columns):\n",
            " #   Column           Non-Null Count  Dtype         \n",
            "---  ------           --------------  -----         \n",
            " 0   id               50 non-null     int64         \n",
            " 1   consultant_name  50 non-null     object        \n",
            " 2   created_at       50 non-null     datetime64[ns]\n",
            " 3   updated_at       50 non-null     datetime64[ns]\n",
            "dtypes: datetime64[ns](2), int64(1), object(1)\n",
            "memory usage: 1.7+ KB\n"
          ]
        }
      ],
      "source": [
        "# high level column overview\n",
        "dim_consultant.info()"
      ]
    },
    {
      "cell_type": "code",
      "execution_count": null,
      "id": "fd8c94d3",
      "metadata": {
        "id": "fd8c94d3",
        "outputId": "67945dd6-616c-4c55-9b60-1cea0c51361f"
      },
      "outputs": [
        {
          "data": {
            "text/html": [
              "<div>\n",
              "<style scoped>\n",
              "    .dataframe tbody tr th:only-of-type {\n",
              "        vertical-align: middle;\n",
              "    }\n",
              "\n",
              "    .dataframe tbody tr th {\n",
              "        vertical-align: top;\n",
              "    }\n",
              "\n",
              "    .dataframe thead th {\n",
              "        text-align: right;\n",
              "    }\n",
              "</style>\n",
              "<table border=\"1\" class=\"dataframe\">\n",
              "  <thead>\n",
              "    <tr style=\"text-align: right;\">\n",
              "      <th></th>\n",
              "      <th>id</th>\n",
              "      <th>consultant_name</th>\n",
              "      <th>created_at</th>\n",
              "      <th>updated_at</th>\n",
              "    </tr>\n",
              "  </thead>\n",
              "  <tbody>\n",
              "    <tr>\n",
              "      <th>0</th>\n",
              "      <td>101</td>\n",
              "      <td>Kerwinn</td>\n",
              "      <td>2018-07-09</td>\n",
              "      <td>2018-07-09</td>\n",
              "    </tr>\n",
              "    <tr>\n",
              "      <th>1</th>\n",
              "      <td>102</td>\n",
              "      <td>Ferdinand</td>\n",
              "      <td>2019-06-08</td>\n",
              "      <td>2019-06-08</td>\n",
              "    </tr>\n",
              "    <tr>\n",
              "      <th>2</th>\n",
              "      <td>103</td>\n",
              "      <td>Tadio</td>\n",
              "      <td>2019-11-29</td>\n",
              "      <td>2019-11-29</td>\n",
              "    </tr>\n",
              "    <tr>\n",
              "      <th>3</th>\n",
              "      <td>104</td>\n",
              "      <td>Matthew</td>\n",
              "      <td>2018-05-09</td>\n",
              "      <td>2018-05-09</td>\n",
              "    </tr>\n",
              "    <tr>\n",
              "      <th>4</th>\n",
              "      <td>105</td>\n",
              "      <td>Barry</td>\n",
              "      <td>2018-07-02</td>\n",
              "      <td>2018-07-02</td>\n",
              "    </tr>\n",
              "  </tbody>\n",
              "</table>\n",
              "</div>"
            ],
            "text/plain": [
              "    id consultant_name created_at updated_at\n",
              "0  101         Kerwinn 2018-07-09 2018-07-09\n",
              "1  102       Ferdinand 2019-06-08 2019-06-08\n",
              "2  103           Tadio 2019-11-29 2019-11-29\n",
              "3  104         Matthew 2018-05-09 2018-05-09\n",
              "4  105           Barry 2018-07-02 2018-07-02"
            ]
          },
          "execution_count": 19,
          "metadata": {},
          "output_type": "execute_result"
        }
      ],
      "source": [
        "# high level records overview\n",
        "dim_consultant.head()"
      ]
    },
    {
      "cell_type": "markdown",
      "id": "0bb0d4f3",
      "metadata": {
        "id": "0bb0d4f3"
      },
      "source": [
        "### 9. dim customer"
      ]
    },
    {
      "cell_type": "code",
      "execution_count": null,
      "id": "71431dc7",
      "metadata": {
        "id": "71431dc7",
        "outputId": "e8cff310-f1de-4f0f-e5ce-482078461d43"
      },
      "outputs": [
        {
          "name": "stdout",
          "output_type": "stream",
          "text": [
            "<class 'pandas.core.frame.DataFrame'>\n",
            "RangeIndex: 479 entries, 0 to 478\n",
            "Data columns (total 4 columns):\n",
            " #   Column         Non-Null Count  Dtype         \n",
            "---  ------         --------------  -----         \n",
            " 0   id             479 non-null    int64         \n",
            " 1   customer_name  479 non-null    object        \n",
            " 2   created_at     479 non-null    datetime64[ns]\n",
            " 3   updated_at     479 non-null    datetime64[ns]\n",
            "dtypes: datetime64[ns](2), int64(1), object(1)\n",
            "memory usage: 15.1+ KB\n"
          ]
        }
      ],
      "source": [
        "# high level column overview\n",
        "dim_customer.info()"
      ]
    },
    {
      "cell_type": "code",
      "execution_count": null,
      "id": "d5b3558f",
      "metadata": {
        "id": "d5b3558f",
        "outputId": "c8a52ddf-0e22-49c0-b4bd-a109ab25448c"
      },
      "outputs": [
        {
          "data": {
            "text/html": [
              "<div>\n",
              "<style scoped>\n",
              "    .dataframe tbody tr th:only-of-type {\n",
              "        vertical-align: middle;\n",
              "    }\n",
              "\n",
              "    .dataframe tbody tr th {\n",
              "        vertical-align: top;\n",
              "    }\n",
              "\n",
              "    .dataframe thead th {\n",
              "        text-align: right;\n",
              "    }\n",
              "</style>\n",
              "<table border=\"1\" class=\"dataframe\">\n",
              "  <thead>\n",
              "    <tr style=\"text-align: right;\">\n",
              "      <th></th>\n",
              "      <th>id</th>\n",
              "      <th>customer_name</th>\n",
              "      <th>created_at</th>\n",
              "      <th>updated_at</th>\n",
              "    </tr>\n",
              "  </thead>\n",
              "  <tbody>\n",
              "    <tr>\n",
              "      <th>0</th>\n",
              "      <td>10001</td>\n",
              "      <td>Bendicty</td>\n",
              "      <td>2018-12-12</td>\n",
              "      <td>2018-12-12</td>\n",
              "    </tr>\n",
              "    <tr>\n",
              "      <th>1</th>\n",
              "      <td>10002</td>\n",
              "      <td>Ursulina</td>\n",
              "      <td>2019-11-17</td>\n",
              "      <td>2019-11-17</td>\n",
              "    </tr>\n",
              "    <tr>\n",
              "      <th>2</th>\n",
              "      <td>10003</td>\n",
              "      <td>Cymbre</td>\n",
              "      <td>2018-11-01</td>\n",
              "      <td>2018-11-01</td>\n",
              "    </tr>\n",
              "    <tr>\n",
              "      <th>3</th>\n",
              "      <td>10004</td>\n",
              "      <td>Wilek</td>\n",
              "      <td>2018-10-18</td>\n",
              "      <td>2018-10-18</td>\n",
              "    </tr>\n",
              "    <tr>\n",
              "      <th>4</th>\n",
              "      <td>10005</td>\n",
              "      <td>Desiree</td>\n",
              "      <td>2019-04-23</td>\n",
              "      <td>2019-04-23</td>\n",
              "    </tr>\n",
              "  </tbody>\n",
              "</table>\n",
              "</div>"
            ],
            "text/plain": [
              "      id customer_name created_at updated_at\n",
              "0  10001      Bendicty 2018-12-12 2018-12-12\n",
              "1  10002      Ursulina 2019-11-17 2019-11-17\n",
              "2  10003        Cymbre 2018-11-01 2018-11-01\n",
              "3  10004         Wilek 2018-10-18 2018-10-18\n",
              "4  10005       Desiree 2019-04-23 2019-04-23"
            ]
          },
          "execution_count": 21,
          "metadata": {},
          "output_type": "execute_result"
        }
      ],
      "source": [
        "# high level records overview\n",
        "dim_customer.head()"
      ]
    },
    {
      "cell_type": "markdown",
      "source": [
        "Dimensional Data Model"
      ],
      "metadata": {
        "id": "lRRgYi6jrDNE"
      },
      "id": "lRRgYi6jrDNE"
    },
    {
      "cell_type": "markdown",
      "id": "b5fbceeb",
      "metadata": {
        "id": "b5fbceeb"
      },
      "source": [
        "![Entity_Relationship_Diagram.jpg](data:image/jpeg;base64,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)"
      ]
    },
    {
      "cell_type": "markdown",
      "id": "042ffce6",
      "metadata": {
        "id": "042ffce6"
      },
      "source": [
        "## Data Analysis"
      ]
    },
    {
      "cell_type": "markdown",
      "id": "668a02eb",
      "metadata": {
        "id": "668a02eb"
      },
      "source": [
        "Now that we've gone through all the tables and the data is cleaned, we will create a SQL query to combine the data set for our analysis, and have they data model as shown above"
      ]
    },
    {
      "cell_type": "code",
      "execution_count": null,
      "id": "1464581c",
      "metadata": {
        "id": "1464581c",
        "outputId": "8440dd3e-af60-4977-c355-77b38f89a9e1"
      },
      "outputs": [
        {
          "data": {
            "text/html": [
              "<div>\n",
              "<style scoped>\n",
              "    .dataframe tbody tr th:only-of-type {\n",
              "        vertical-align: middle;\n",
              "    }\n",
              "\n",
              "    .dataframe tbody tr th {\n",
              "        vertical-align: top;\n",
              "    }\n",
              "\n",
              "    .dataframe thead th {\n",
              "        text-align: right;\n",
              "    }\n",
              "</style>\n",
              "<table border=\"1\" class=\"dataframe\">\n",
              "  <thead>\n",
              "    <tr style=\"text-align: right;\">\n",
              "      <th></th>\n",
              "      <th>id</th>\n",
              "      <th>date</th>\n",
              "      <th>transaction_id</th>\n",
              "      <th>brand_id</th>\n",
              "      <th>location_id</th>\n",
              "      <th>channel_id</th>\n",
              "      <th>campaign_id</th>\n",
              "      <th>keyword</th>\n",
              "      <th>customer_id</th>\n",
              "      <th>consultant_id</th>\n",
              "      <th>...</th>\n",
              "      <th>created_at</th>\n",
              "      <th>updated_at</th>\n",
              "      <th>id</th>\n",
              "      <th>consultant_name</th>\n",
              "      <th>created_at</th>\n",
              "      <th>updated_at</th>\n",
              "      <th>id</th>\n",
              "      <th>travel_destination</th>\n",
              "      <th>created_at</th>\n",
              "      <th>updated_at</th>\n",
              "    </tr>\n",
              "  </thead>\n",
              "  <tbody>\n",
              "    <tr>\n",
              "      <th>0</th>\n",
              "      <td>1</td>\n",
              "      <td>2021-05-05 00:00:00.000000</td>\n",
              "      <td>105694821</td>\n",
              "      <td>4</td>\n",
              "      <td>47</td>\n",
              "      <td>2</td>\n",
              "      <td>5</td>\n",
              "      <td>(not set)</td>\n",
              "      <td>10288</td>\n",
              "      <td>101</td>\n",
              "      <td>...</td>\n",
              "      <td>2018-03-22 00:00:00.000000</td>\n",
              "      <td>2018-03-22 00:00:00.000000</td>\n",
              "      <td>101</td>\n",
              "      <td>Kerwinn</td>\n",
              "      <td>2018-07-09 00:00:00.000000</td>\n",
              "      <td>2018-07-09 00:00:00.000000</td>\n",
              "      <td>21</td>\n",
              "      <td>Etosha</td>\n",
              "      <td>2019-07-27 00:00:00.000000</td>\n",
              "      <td>2019-07-27 00:00:00.000000</td>\n",
              "    </tr>\n",
              "    <tr>\n",
              "      <th>1</th>\n",
              "      <td>2</td>\n",
              "      <td>2021-02-21 00:00:00.000000</td>\n",
              "      <td>105694822</td>\n",
              "      <td>8</td>\n",
              "      <td>40</td>\n",
              "      <td>2</td>\n",
              "      <td>4</td>\n",
              "      <td>(not provided)</td>\n",
              "      <td>10114</td>\n",
              "      <td>141</td>\n",
              "      <td>...</td>\n",
              "      <td>2019-11-16 00:00:00.000000</td>\n",
              "      <td>2019-11-16 00:00:00.000000</td>\n",
              "      <td>141</td>\n",
              "      <td>Weston</td>\n",
              "      <td>2019-09-01 00:00:00.000000</td>\n",
              "      <td>2019-09-01 00:00:00.000000</td>\n",
              "      <td>13</td>\n",
              "      <td>The Northern Cape</td>\n",
              "      <td>2018-12-05 00:00:00.000000</td>\n",
              "      <td>2018-12-05 00:00:00.000000</td>\n",
              "    </tr>\n",
              "    <tr>\n",
              "      <th>2</th>\n",
              "      <td>3</td>\n",
              "      <td>2021-07-11 00:00:00.000000</td>\n",
              "      <td>105694823</td>\n",
              "      <td>6</td>\n",
              "      <td>33</td>\n",
              "      <td>3</td>\n",
              "      <td>6</td>\n",
              "      <td>(not provided)</td>\n",
              "      <td>10318</td>\n",
              "      <td>148</td>\n",
              "      <td>...</td>\n",
              "      <td>2018-03-24 00:00:00.000000</td>\n",
              "      <td>2018-03-24 00:00:00.000000</td>\n",
              "      <td>148</td>\n",
              "      <td>Glyn</td>\n",
              "      <td>2019-12-03 00:00:00.000000</td>\n",
              "      <td>2019-12-03 00:00:00.000000</td>\n",
              "      <td>18</td>\n",
              "      <td>Serengeti and the north of Tanzania</td>\n",
              "      <td>2018-02-14 00:00:00.000000</td>\n",
              "      <td>2018-02-14 00:00:00.000000</td>\n",
              "    </tr>\n",
              "    <tr>\n",
              "      <th>3</th>\n",
              "      <td>4</td>\n",
              "      <td>2020-05-05 00:00:00.000000</td>\n",
              "      <td>105694824</td>\n",
              "      <td>4</td>\n",
              "      <td>43</td>\n",
              "      <td>2</td>\n",
              "      <td>7</td>\n",
              "      <td>(not provided)</td>\n",
              "      <td>10270</td>\n",
              "      <td>113</td>\n",
              "      <td>...</td>\n",
              "      <td>2019-03-30 00:00:00.000000</td>\n",
              "      <td>2019-03-30 00:00:00.000000</td>\n",
              "      <td>113</td>\n",
              "      <td>Malinde</td>\n",
              "      <td>2019-03-18 00:00:00.000000</td>\n",
              "      <td>2019-03-18 00:00:00.000000</td>\n",
              "      <td>18</td>\n",
              "      <td>Serengeti and the north of Tanzania</td>\n",
              "      <td>2018-02-14 00:00:00.000000</td>\n",
              "      <td>2018-02-14 00:00:00.000000</td>\n",
              "    </tr>\n",
              "    <tr>\n",
              "      <th>4</th>\n",
              "      <td>5</td>\n",
              "      <td>2020-10-12 00:00:00.000000</td>\n",
              "      <td>105694825</td>\n",
              "      <td>3</td>\n",
              "      <td>55</td>\n",
              "      <td>3</td>\n",
              "      <td>5</td>\n",
              "      <td>(not provided)</td>\n",
              "      <td>10397</td>\n",
              "      <td>142</td>\n",
              "      <td>...</td>\n",
              "      <td>2018-04-10 00:00:00.000000</td>\n",
              "      <td>2018-04-10 00:00:00.000000</td>\n",
              "      <td>142</td>\n",
              "      <td>Sapphira</td>\n",
              "      <td>2019-11-24 00:00:00.000000</td>\n",
              "      <td>2019-11-24 00:00:00.000000</td>\n",
              "      <td>16</td>\n",
              "      <td>Sun City &amp; Surrounds</td>\n",
              "      <td>2019-06-07 00:00:00.000000</td>\n",
              "      <td>2019-06-07 00:00:00.000000</td>\n",
              "    </tr>\n",
              "  </tbody>\n",
              "</table>\n",
              "<p>5 rows × 45 columns</p>\n",
              "</div>"
            ],
            "text/plain": [
              "   id                        date  transaction_id  brand_id  location_id  \\\n",
              "0   1  2021-05-05 00:00:00.000000       105694821         4           47   \n",
              "1   2  2021-02-21 00:00:00.000000       105694822         8           40   \n",
              "2   3  2021-07-11 00:00:00.000000       105694823         6           33   \n",
              "3   4  2020-05-05 00:00:00.000000       105694824         4           43   \n",
              "4   5  2020-10-12 00:00:00.000000       105694825         3           55   \n",
              "\n",
              "   channel_id  campaign_id         keyword  customer_id  consultant_id  ...  \\\n",
              "0           2            5       (not set)        10288            101  ...   \n",
              "1           2            4  (not provided)        10114            141  ...   \n",
              "2           3            6  (not provided)        10318            148  ...   \n",
              "3           2            7  (not provided)        10270            113  ...   \n",
              "4           3            5  (not provided)        10397            142  ...   \n",
              "\n",
              "                   created_at                  updated_at   id  \\\n",
              "0  2018-03-22 00:00:00.000000  2018-03-22 00:00:00.000000  101   \n",
              "1  2019-11-16 00:00:00.000000  2019-11-16 00:00:00.000000  141   \n",
              "2  2018-03-24 00:00:00.000000  2018-03-24 00:00:00.000000  148   \n",
              "3  2019-03-30 00:00:00.000000  2019-03-30 00:00:00.000000  113   \n",
              "4  2018-04-10 00:00:00.000000  2018-04-10 00:00:00.000000  142   \n",
              "\n",
              "   consultant_name                  created_at                  updated_at  \\\n",
              "0          Kerwinn  2018-07-09 00:00:00.000000  2018-07-09 00:00:00.000000   \n",
              "1           Weston  2019-09-01 00:00:00.000000  2019-09-01 00:00:00.000000   \n",
              "2             Glyn  2019-12-03 00:00:00.000000  2019-12-03 00:00:00.000000   \n",
              "3          Malinde  2019-03-18 00:00:00.000000  2019-03-18 00:00:00.000000   \n",
              "4         Sapphira  2019-11-24 00:00:00.000000  2019-11-24 00:00:00.000000   \n",
              "\n",
              "   id                   travel_destination                  created_at  \\\n",
              "0  21                               Etosha  2019-07-27 00:00:00.000000   \n",
              "1  13                    The Northern Cape  2018-12-05 00:00:00.000000   \n",
              "2  18  Serengeti and the north of Tanzania  2018-02-14 00:00:00.000000   \n",
              "3  18  Serengeti and the north of Tanzania  2018-02-14 00:00:00.000000   \n",
              "4  16                 Sun City & Surrounds  2019-06-07 00:00:00.000000   \n",
              "\n",
              "                   updated_at  \n",
              "0  2019-07-27 00:00:00.000000  \n",
              "1  2018-12-05 00:00:00.000000  \n",
              "2  2018-02-14 00:00:00.000000  \n",
              "3  2018-02-14 00:00:00.000000  \n",
              "4  2019-06-07 00:00:00.000000  \n",
              "\n",
              "[5 rows x 45 columns]"
            ]
          },
          "execution_count": 22,
          "metadata": {},
          "output_type": "execute_result"
        }
      ],
      "source": [
        "# Using pandasql to write SQL queries\n",
        "sql_query = \"\"\"\n",
        "SELECT *\n",
        "FROM fact_transaction t1\n",
        "JOIN dim_brand t2 ON t1.brand_id = t2.id\n",
        "JOIN dim_location t3 ON t1.location_id = t3.id\n",
        "JOIN dim_channel t4 ON t1.channel_id = t4.id\n",
        "JOIN dim_campaign t5 ON t1.campaign_id = t5.id\n",
        "JOIN dim_customer t6 ON t1.customer_id = t6.id\n",
        "JOIN dim_consultant t7 ON t1.consultant_id = t7.id\n",
        "JOIN dim_travel_destination t8 ON t1.travel_destination_id = t8.id\n",
        "\"\"\"\n",
        "\n",
        "# The Query result\n",
        "result = ps.sqldf(sql_query, locals())\n",
        "\n",
        "# Display the result\n",
        "pd.DataFrame(result)\n",
        "result.head(5)"
      ]
    },
    {
      "cell_type": "markdown",
      "id": "aa8d8df0",
      "metadata": {
        "id": "aa8d8df0"
      },
      "source": [
        "Now that we've combined our data, we'll export it to our excelsheet before we continue"
      ]
    },
    {
      "cell_type": "code",
      "execution_count": null,
      "id": "c09249ec",
      "metadata": {
        "id": "c09249ec"
      },
      "outputs": [],
      "source": [
        "# file path to save the data\n",
        "file_path = './assessment_data1.xlsx'\n",
        "\n",
        "# Save the DataFrame to an Excel sheet named 'fact_transaction_combined_data' in the file\n",
        "result.to_excel(file_path, sheet_name='fact_transaction_combined_data', index=False)\n"
      ]
    },
    {
      "cell_type": "markdown",
      "id": "894ab3c7",
      "metadata": {
        "id": "894ab3c7"
      },
      "source": [
        "### Assessment\n",
        "\n",
        "#### Question 1\n",
        "Create a SQL script that generates a dataset containing the summarized\n",
        "monthly revenue (incl. and excl. VAT fields separately) and cost to supplier,\n",
        "split by channel (not channel_id, the value describing the key channel_id).\n",
        "\n",
        "The output should have fields for: year, month, channel (not channel_id),\n",
        "revenue incl VAT, revenue excl VAT & cost to supplier."
      ]
    },
    {
      "cell_type": "code",
      "execution_count": null,
      "id": "818be7c3",
      "metadata": {
        "id": "818be7c3",
        "outputId": "2e13f98e-b124-4de8-c6d1-6941a7946dbd"
      },
      "outputs": [
        {
          "data": {
            "text/html": [
              "<div>\n",
              "<style scoped>\n",
              "    .dataframe tbody tr th:only-of-type {\n",
              "        vertical-align: middle;\n",
              "    }\n",
              "\n",
              "    .dataframe tbody tr th {\n",
              "        vertical-align: top;\n",
              "    }\n",
              "\n",
              "    .dataframe thead th {\n",
              "        text-align: right;\n",
              "    }\n",
              "</style>\n",
              "<table border=\"1\" class=\"dataframe\">\n",
              "  <thead>\n",
              "    <tr style=\"text-align: right;\">\n",
              "      <th></th>\n",
              "      <th>year</th>\n",
              "      <th>month</th>\n",
              "      <th>channel</th>\n",
              "      <th>revenue_incl_VAT</th>\n",
              "      <th>revenue_excl_VAT</th>\n",
              "      <th>cost_to_supplier</th>\n",
              "    </tr>\n",
              "  </thead>\n",
              "  <tbody>\n",
              "    <tr>\n",
              "      <th>0</th>\n",
              "      <td>2020</td>\n",
              "      <td>01</td>\n",
              "      <td>Non-Paid</td>\n",
              "      <td>21798208.60</td>\n",
              "      <td>1.895496e+07</td>\n",
              "      <td>1.434181e+07</td>\n",
              "    </tr>\n",
              "    <tr>\n",
              "      <th>1</th>\n",
              "      <td>2020</td>\n",
              "      <td>01</td>\n",
              "      <td>Offline</td>\n",
              "      <td>26751742.50</td>\n",
              "      <td>2.326238e+07</td>\n",
              "      <td>1.753180e+07</td>\n",
              "    </tr>\n",
              "    <tr>\n",
              "      <th>2</th>\n",
              "      <td>2020</td>\n",
              "      <td>01</td>\n",
              "      <td>Paid</td>\n",
              "      <td>22902269.60</td>\n",
              "      <td>1.991502e+07</td>\n",
              "      <td>1.729920e+07</td>\n",
              "    </tr>\n",
              "    <tr>\n",
              "      <th>3</th>\n",
              "      <td>2020</td>\n",
              "      <td>02</td>\n",
              "      <td>Non-Paid</td>\n",
              "      <td>23450832.30</td>\n",
              "      <td>2.039203e+07</td>\n",
              "      <td>1.772935e+07</td>\n",
              "    </tr>\n",
              "    <tr>\n",
              "      <th>4</th>\n",
              "      <td>2020</td>\n",
              "      <td>02</td>\n",
              "      <td>Offline</td>\n",
              "      <td>21980290.50</td>\n",
              "      <td>1.911330e+07</td>\n",
              "      <td>1.525447e+07</td>\n",
              "    </tr>\n",
              "    <tr>\n",
              "      <th>...</th>\n",
              "      <td>...</td>\n",
              "      <td>...</td>\n",
              "      <td>...</td>\n",
              "      <td>...</td>\n",
              "      <td>...</td>\n",
              "      <td>...</td>\n",
              "    </tr>\n",
              "    <tr>\n",
              "      <th>67</th>\n",
              "      <td>2021</td>\n",
              "      <td>11</td>\n",
              "      <td>Offline</td>\n",
              "      <td>39630172.05</td>\n",
              "      <td>3.446102e+07</td>\n",
              "      <td>2.907622e+07</td>\n",
              "    </tr>\n",
              "    <tr>\n",
              "      <th>68</th>\n",
              "      <td>2021</td>\n",
              "      <td>11</td>\n",
              "      <td>Paid</td>\n",
              "      <td>42854752.35</td>\n",
              "      <td>3.726500e+07</td>\n",
              "      <td>3.020499e+07</td>\n",
              "    </tr>\n",
              "    <tr>\n",
              "      <th>69</th>\n",
              "      <td>2021</td>\n",
              "      <td>12</td>\n",
              "      <td>Non-Paid</td>\n",
              "      <td>24820556.25</td>\n",
              "      <td>2.158309e+07</td>\n",
              "      <td>1.690558e+07</td>\n",
              "    </tr>\n",
              "    <tr>\n",
              "      <th>70</th>\n",
              "      <td>2021</td>\n",
              "      <td>12</td>\n",
              "      <td>Offline</td>\n",
              "      <td>25992444.75</td>\n",
              "      <td>2.260213e+07</td>\n",
              "      <td>1.772575e+07</td>\n",
              "    </tr>\n",
              "    <tr>\n",
              "      <th>71</th>\n",
              "      <td>2021</td>\n",
              "      <td>12</td>\n",
              "      <td>Paid</td>\n",
              "      <td>30768063.00</td>\n",
              "      <td>2.675484e+07</td>\n",
              "      <td>2.053138e+07</td>\n",
              "    </tr>\n",
              "  </tbody>\n",
              "</table>\n",
              "<p>72 rows × 6 columns</p>\n",
              "</div>"
            ],
            "text/plain": [
              "    year month   channel  revenue_incl_VAT  revenue_excl_VAT  cost_to_supplier\n",
              "0   2020    01  Non-Paid       21798208.60      1.895496e+07      1.434181e+07\n",
              "1   2020    01   Offline       26751742.50      2.326238e+07      1.753180e+07\n",
              "2   2020    01      Paid       22902269.60      1.991502e+07      1.729920e+07\n",
              "3   2020    02  Non-Paid       23450832.30      2.039203e+07      1.772935e+07\n",
              "4   2020    02   Offline       21980290.50      1.911330e+07      1.525447e+07\n",
              "..   ...   ...       ...               ...               ...               ...\n",
              "67  2021    11   Offline       39630172.05      3.446102e+07      2.907622e+07\n",
              "68  2021    11      Paid       42854752.35      3.726500e+07      3.020499e+07\n",
              "69  2021    12  Non-Paid       24820556.25      2.158309e+07      1.690558e+07\n",
              "70  2021    12   Offline       25992444.75      2.260213e+07      1.772575e+07\n",
              "71  2021    12      Paid       30768063.00      2.675484e+07      2.053138e+07\n",
              "\n",
              "[72 rows x 6 columns]"
            ]
          },
          "execution_count": 24,
          "metadata": {},
          "output_type": "execute_result"
        }
      ],
      "source": [
        "# Using pandasql to write SQL queries\n",
        "sql_query = \"\"\"\n",
        "SELECT\n",
        "    strftime('%Y', date) AS year,\n",
        "    strftime('%m', date) AS month,\n",
        "    channel,\n",
        "    SUM(revenue_incl_VAT) AS revenue_incl_VAT,\n",
        "    SUM(revenue_excl_VAT) AS revenue_excl_VAT,\n",
        "    SUM(cost_to_supplier) AS cost_to_supplier\n",
        "FROM\n",
        "    result\n",
        "GROUP BY\n",
        "    year,month,channel\n",
        "\"\"\"\n",
        "\n",
        "# The Query result\n",
        "query_result = ps.sqldf(sql_query, locals())\n",
        "\n",
        "# Display the result\n",
        "pd.DataFrame(query_result)\n",
        "query_result"
      ]
    },
    {
      "cell_type": "markdown",
      "id": "b71704bf",
      "metadata": {
        "id": "b71704bf"
      },
      "source": [
        "We now export our dataset to excel"
      ]
    },
    {
      "cell_type": "code",
      "execution_count": null,
      "id": "5d845ef5",
      "metadata": {
        "id": "5d845ef5"
      },
      "outputs": [],
      "source": [
        "# file path to save the data\n",
        "file_path = './assessment_data2.xlsx'\n",
        "\n",
        "# Save the DataFrame to an Excel sheet named 'fact_transaction_combined_data' in the file\n",
        "query_result.to_excel(file_path, sheet_name='q1_result_data', index=False)"
      ]
    },
    {
      "cell_type": "markdown",
      "id": "1a00c4f0",
      "metadata": {
        "id": "1a00c4f0"
      },
      "source": [
        "#### Question 2\n",
        "Create a SQL script that generates a dataset containing the following fields:\n",
        "date, transaction_id,brand (not brand_id, the value describing the key\n",
        "brand_id), region, country, channel, campaign_name,consultant_name,\n",
        "customer_name, travel_destination, revenue_excl & cost_to_supplier."
      ]
    },
    {
      "cell_type": "code",
      "execution_count": null,
      "id": "4e207a58",
      "metadata": {
        "id": "4e207a58",
        "outputId": "c29a573b-3157-4dda-915a-d2b7b63a0036"
      },
      "outputs": [
        {
          "data": {
            "text/html": [
              "<div>\n",
              "<style scoped>\n",
              "    .dataframe tbody tr th:only-of-type {\n",
              "        vertical-align: middle;\n",
              "    }\n",
              "\n",
              "    .dataframe tbody tr th {\n",
              "        vertical-align: top;\n",
              "    }\n",
              "\n",
              "    .dataframe thead th {\n",
              "        text-align: right;\n",
              "    }\n",
              "</style>\n",
              "<table border=\"1\" class=\"dataframe\">\n",
              "  <thead>\n",
              "    <tr style=\"text-align: right;\">\n",
              "      <th></th>\n",
              "      <th>date</th>\n",
              "      <th>transaction_id</th>\n",
              "      <th>brand</th>\n",
              "      <th>region</th>\n",
              "      <th>country</th>\n",
              "      <th>channel</th>\n",
              "      <th>campaign_name</th>\n",
              "      <th>consultant_name</th>\n",
              "      <th>customer_name</th>\n",
              "      <th>travel_destination</th>\n",
              "      <th>revenue_excl_VAT</th>\n",
              "      <th>cost_to_supplier</th>\n",
              "    </tr>\n",
              "  </thead>\n",
              "  <tbody>\n",
              "    <tr>\n",
              "      <th>0</th>\n",
              "      <td>2021-05-05 00:00:00.000000</td>\n",
              "      <td>105694821</td>\n",
              "      <td>EH</td>\n",
              "      <td>Asia</td>\n",
              "      <td>Rep of Korea</td>\n",
              "      <td>Non-Paid</td>\n",
              "      <td>Destination_Kruger Park</td>\n",
              "      <td>Kerwinn</td>\n",
              "      <td>Alfons</td>\n",
              "      <td>Etosha</td>\n",
              "      <td>160734.521739</td>\n",
              "      <td>184844.70</td>\n",
              "    </tr>\n",
              "    <tr>\n",
              "      <th>1</th>\n",
              "      <td>2021-02-21 00:00:00.000000</td>\n",
              "      <td>105694822</td>\n",
              "      <td>RC</td>\n",
              "      <td>Asia</td>\n",
              "      <td>Other</td>\n",
              "      <td>Non-Paid</td>\n",
              "      <td>BDay_supplier</td>\n",
              "      <td>Weston</td>\n",
              "      <td>Ardys</td>\n",
              "      <td>The Northern Cape</td>\n",
              "      <td>214956.521739</td>\n",
              "      <td>197760.00</td>\n",
              "    </tr>\n",
              "    <tr>\n",
              "      <th>2</th>\n",
              "      <td>2021-07-11 00:00:00.000000</td>\n",
              "      <td>105694823</td>\n",
              "      <td>SS</td>\n",
              "      <td>Africa</td>\n",
              "      <td>Namibia</td>\n",
              "      <td>Offline</td>\n",
              "      <td>Destination_Garden_Route</td>\n",
              "      <td>Glyn</td>\n",
              "      <td>Maisey</td>\n",
              "      <td>Serengeti and the north of Tanzania</td>\n",
              "      <td>255994.565217</td>\n",
              "      <td>176636.25</td>\n",
              "    </tr>\n",
              "    <tr>\n",
              "      <th>3</th>\n",
              "      <td>2020-05-05 00:00:00.000000</td>\n",
              "      <td>105694824</td>\n",
              "      <td>EH</td>\n",
              "      <td>Middle East</td>\n",
              "      <td>Other</td>\n",
              "      <td>Non-Paid</td>\n",
              "      <td>Destination_Madagascar</td>\n",
              "      <td>Malinde</td>\n",
              "      <td>Torrance</td>\n",
              "      <td>Serengeti and the north of Tanzania</td>\n",
              "      <td>203434.121739</td>\n",
              "      <td>233949.24</td>\n",
              "    </tr>\n",
              "    <tr>\n",
              "      <th>4</th>\n",
              "      <td>2020-10-12 00:00:00.000000</td>\n",
              "      <td>105694825</td>\n",
              "      <td>IC</td>\n",
              "      <td>Europe</td>\n",
              "      <td>Switzerland</td>\n",
              "      <td>Offline</td>\n",
              "      <td>Destination_Kruger Park</td>\n",
              "      <td>Sapphira</td>\n",
              "      <td>Jamaal</td>\n",
              "      <td>Sun City &amp; Surrounds</td>\n",
              "      <td>118062.000000</td>\n",
              "      <td>122194.17</td>\n",
              "    </tr>\n",
              "  </tbody>\n",
              "</table>\n",
              "</div>"
            ],
            "text/plain": [
              "                         date  transaction_id brand       region  \\\n",
              "0  2021-05-05 00:00:00.000000       105694821    EH         Asia   \n",
              "1  2021-02-21 00:00:00.000000       105694822    RC         Asia   \n",
              "2  2021-07-11 00:00:00.000000       105694823    SS       Africa   \n",
              "3  2020-05-05 00:00:00.000000       105694824    EH  Middle East   \n",
              "4  2020-10-12 00:00:00.000000       105694825    IC       Europe   \n",
              "\n",
              "        country   channel             campaign_name consultant_name  \\\n",
              "0  Rep of Korea  Non-Paid   Destination_Kruger Park         Kerwinn   \n",
              "1         Other  Non-Paid             BDay_supplier          Weston   \n",
              "2       Namibia   Offline  Destination_Garden_Route            Glyn   \n",
              "3         Other  Non-Paid    Destination_Madagascar         Malinde   \n",
              "4   Switzerland   Offline   Destination_Kruger Park        Sapphira   \n",
              "\n",
              "  customer_name                   travel_destination  revenue_excl_VAT  \\\n",
              "0        Alfons                               Etosha     160734.521739   \n",
              "1         Ardys                    The Northern Cape     214956.521739   \n",
              "2        Maisey  Serengeti and the north of Tanzania     255994.565217   \n",
              "3      Torrance  Serengeti and the north of Tanzania     203434.121739   \n",
              "4        Jamaal                 Sun City & Surrounds     118062.000000   \n",
              "\n",
              "   cost_to_supplier  \n",
              "0         184844.70  \n",
              "1         197760.00  \n",
              "2         176636.25  \n",
              "3         233949.24  \n",
              "4         122194.17  "
            ]
          },
          "execution_count": 26,
          "metadata": {},
          "output_type": "execute_result"
        }
      ],
      "source": [
        "# Using pandasql to write SQL queries\n",
        "sql_query = \"\"\"\n",
        "SELECT\n",
        "    date,\n",
        "    transaction_id,\n",
        "    brand,\n",
        "    region,\n",
        "    country,\n",
        "    channel,\n",
        "    campaign_name,\n",
        "    consultant_name,\n",
        "    customer_name,\n",
        "    travel_destination,\n",
        "    revenue_excl_VAT,\n",
        "    cost_to_supplier\n",
        "FROM\n",
        "    result\n",
        "\"\"\"\n",
        "\n",
        "# The Query result\n",
        "query_result = ps.sqldf(sql_query, locals())\n",
        "\n",
        "# Display the result\n",
        "pd.DataFrame(query_result)\n",
        "query_result.head(5)"
      ]
    },
    {
      "cell_type": "code",
      "execution_count": null,
      "id": "afb28212",
      "metadata": {
        "id": "afb28212"
      },
      "outputs": [],
      "source": [
        "# file path to save the data\n",
        "file_path = './assessment_data3.xlsx'\n",
        "\n",
        "# Save the DataFrame to an Excel sheet named 'fact_transaction_combined_data' in the file\n",
        "query_result.to_excel(file_path, sheet_name='q2_result_data', index=False)"
      ]
    },
    {
      "cell_type": "markdown",
      "id": "500923a2",
      "metadata": {
        "id": "500923a2"
      },
      "source": [
        "#### Question 3\n",
        "Develop 2 simple table views displaying revenue (VAT exclusive) by region\n",
        "only, and by region & country, split by year."
      ]
    },
    {
      "cell_type": "code",
      "execution_count": null,
      "id": "b2bcb8c2",
      "metadata": {
        "id": "b2bcb8c2",
        "outputId": "e4f9985b-505a-4ca2-9c2e-0d6cfcaa0c2f"
      },
      "outputs": [
        {
          "data": {
            "text/html": [
              "<div>\n",
              "<style scoped>\n",
              "    .dataframe tbody tr th:only-of-type {\n",
              "        vertical-align: middle;\n",
              "    }\n",
              "\n",
              "    .dataframe tbody tr th {\n",
              "        vertical-align: top;\n",
              "    }\n",
              "\n",
              "    .dataframe thead th {\n",
              "        text-align: right;\n",
              "    }\n",
              "</style>\n",
              "<table border=\"1\" class=\"dataframe\">\n",
              "  <thead>\n",
              "    <tr style=\"text-align: right;\">\n",
              "      <th></th>\n",
              "      <th>year</th>\n",
              "      <th>region</th>\n",
              "      <th>revenue_excl_VAT</th>\n",
              "    </tr>\n",
              "  </thead>\n",
              "  <tbody>\n",
              "    <tr>\n",
              "      <th>0</th>\n",
              "      <td>2020</td>\n",
              "      <td>Africa</td>\n",
              "      <td>2.129254e+08</td>\n",
              "    </tr>\n",
              "    <tr>\n",
              "      <th>1</th>\n",
              "      <td>2021</td>\n",
              "      <td>Africa</td>\n",
              "      <td>2.619156e+08</td>\n",
              "    </tr>\n",
              "    <tr>\n",
              "      <th>2</th>\n",
              "      <td>2020</td>\n",
              "      <td>Asia</td>\n",
              "      <td>1.319976e+08</td>\n",
              "    </tr>\n",
              "    <tr>\n",
              "      <th>3</th>\n",
              "      <td>2021</td>\n",
              "      <td>Asia</td>\n",
              "      <td>1.775608e+08</td>\n",
              "    </tr>\n",
              "    <tr>\n",
              "      <th>4</th>\n",
              "      <td>2020</td>\n",
              "      <td>Australasia</td>\n",
              "      <td>3.365643e+07</td>\n",
              "    </tr>\n",
              "    <tr>\n",
              "      <th>5</th>\n",
              "      <td>2021</td>\n",
              "      <td>Australasia</td>\n",
              "      <td>4.961240e+07</td>\n",
              "    </tr>\n",
              "    <tr>\n",
              "      <th>6</th>\n",
              "      <td>2020</td>\n",
              "      <td>Europe</td>\n",
              "      <td>2.381234e+08</td>\n",
              "    </tr>\n",
              "    <tr>\n",
              "      <th>7</th>\n",
              "      <td>2021</td>\n",
              "      <td>Europe</td>\n",
              "      <td>3.161325e+08</td>\n",
              "    </tr>\n",
              "    <tr>\n",
              "      <th>8</th>\n",
              "      <td>2020</td>\n",
              "      <td>Indian Ocean</td>\n",
              "      <td>2.268035e+07</td>\n",
              "    </tr>\n",
              "    <tr>\n",
              "      <th>9</th>\n",
              "      <td>2021</td>\n",
              "      <td>Indian Ocean</td>\n",
              "      <td>3.485660e+07</td>\n",
              "    </tr>\n",
              "    <tr>\n",
              "      <th>10</th>\n",
              "      <td>2020</td>\n",
              "      <td>Latam</td>\n",
              "      <td>7.169833e+07</td>\n",
              "    </tr>\n",
              "    <tr>\n",
              "      <th>11</th>\n",
              "      <td>2021</td>\n",
              "      <td>Latam</td>\n",
              "      <td>9.221787e+07</td>\n",
              "    </tr>\n",
              "    <tr>\n",
              "      <th>12</th>\n",
              "      <td>2020</td>\n",
              "      <td>Middle East</td>\n",
              "      <td>6.518306e+07</td>\n",
              "    </tr>\n",
              "    <tr>\n",
              "      <th>13</th>\n",
              "      <td>2021</td>\n",
              "      <td>Middle East</td>\n",
              "      <td>7.562249e+07</td>\n",
              "    </tr>\n",
              "    <tr>\n",
              "      <th>14</th>\n",
              "      <td>2020</td>\n",
              "      <td>North America</td>\n",
              "      <td>2.457187e+07</td>\n",
              "    </tr>\n",
              "    <tr>\n",
              "      <th>15</th>\n",
              "      <td>2021</td>\n",
              "      <td>North America</td>\n",
              "      <td>3.051417e+07</td>\n",
              "    </tr>\n",
              "  </tbody>\n",
              "</table>\n",
              "</div>"
            ],
            "text/plain": [
              "    year         region  revenue_excl_VAT\n",
              "0   2020         Africa      2.129254e+08\n",
              "1   2021         Africa      2.619156e+08\n",
              "2   2020           Asia      1.319976e+08\n",
              "3   2021           Asia      1.775608e+08\n",
              "4   2020    Australasia      3.365643e+07\n",
              "5   2021    Australasia      4.961240e+07\n",
              "6   2020         Europe      2.381234e+08\n",
              "7   2021         Europe      3.161325e+08\n",
              "8   2020   Indian Ocean      2.268035e+07\n",
              "9   2021   Indian Ocean      3.485660e+07\n",
              "10  2020          Latam      7.169833e+07\n",
              "11  2021          Latam      9.221787e+07\n",
              "12  2020    Middle East      6.518306e+07\n",
              "13  2021    Middle East      7.562249e+07\n",
              "14  2020  North America      2.457187e+07\n",
              "15  2021  North America      3.051417e+07"
            ]
          },
          "execution_count": 28,
          "metadata": {},
          "output_type": "execute_result"
        }
      ],
      "source": [
        "# Using pandasql to write SQL queries\n",
        "sql_query = \"\"\"\n",
        "SELECT\n",
        "    strftime('%Y', date) AS year,\n",
        "    region,\n",
        "    SUM(revenue_excl_VAT) AS revenue_excl_VAT\n",
        "FROM\n",
        "    result\n",
        "GROUP BY\n",
        "    region, year\n",
        "\"\"\"\n",
        "\n",
        "# The Query result\n",
        "query_result = ps.sqldf(sql_query, locals())\n",
        "\n",
        "# Display the result\n",
        "pd.DataFrame(query_result)\n",
        "query_result"
      ]
    },
    {
      "cell_type": "code",
      "execution_count": null,
      "id": "5cc05a75",
      "metadata": {
        "id": "5cc05a75",
        "outputId": "55a04816-59d4-45fd-bdac-e2a1a105422a"
      },
      "outputs": [
        {
          "data": {
            "text/html": [
              "<div>\n",
              "<style scoped>\n",
              "    .dataframe tbody tr th:only-of-type {\n",
              "        vertical-align: middle;\n",
              "    }\n",
              "\n",
              "    .dataframe tbody tr th {\n",
              "        vertical-align: top;\n",
              "    }\n",
              "\n",
              "    .dataframe thead th {\n",
              "        text-align: right;\n",
              "    }\n",
              "</style>\n",
              "<table border=\"1\" class=\"dataframe\">\n",
              "  <thead>\n",
              "    <tr style=\"text-align: right;\">\n",
              "      <th></th>\n",
              "      <th>year</th>\n",
              "      <th>country</th>\n",
              "      <th>region</th>\n",
              "      <th>revenue_excl_VAT</th>\n",
              "    </tr>\n",
              "  </thead>\n",
              "  <tbody>\n",
              "    <tr>\n",
              "      <th>0</th>\n",
              "      <td>2020</td>\n",
              "      <td>Angola</td>\n",
              "      <td>Africa</td>\n",
              "      <td>1.493956e+07</td>\n",
              "    </tr>\n",
              "    <tr>\n",
              "      <th>1</th>\n",
              "      <td>2021</td>\n",
              "      <td>Angola</td>\n",
              "      <td>Africa</td>\n",
              "      <td>1.258560e+07</td>\n",
              "    </tr>\n",
              "    <tr>\n",
              "      <th>2</th>\n",
              "      <td>2020</td>\n",
              "      <td>Argentina</td>\n",
              "      <td>Latam</td>\n",
              "      <td>1.036018e+07</td>\n",
              "    </tr>\n",
              "    <tr>\n",
              "      <th>3</th>\n",
              "      <td>2021</td>\n",
              "      <td>Argentina</td>\n",
              "      <td>Latam</td>\n",
              "      <td>1.158592e+07</td>\n",
              "    </tr>\n",
              "    <tr>\n",
              "      <th>4</th>\n",
              "      <td>2020</td>\n",
              "      <td>Australia</td>\n",
              "      <td>Australasia</td>\n",
              "      <td>9.588939e+06</td>\n",
              "    </tr>\n",
              "    <tr>\n",
              "      <th>...</th>\n",
              "      <td>...</td>\n",
              "      <td>...</td>\n",
              "      <td>...</td>\n",
              "      <td>...</td>\n",
              "    </tr>\n",
              "    <tr>\n",
              "      <th>127</th>\n",
              "      <td>2021</td>\n",
              "      <td>Venezuela</td>\n",
              "      <td>Latam</td>\n",
              "      <td>1.642391e+07</td>\n",
              "    </tr>\n",
              "    <tr>\n",
              "      <th>128</th>\n",
              "      <td>2020</td>\n",
              "      <td>Zambia</td>\n",
              "      <td>Africa</td>\n",
              "      <td>1.440243e+07</td>\n",
              "    </tr>\n",
              "    <tr>\n",
              "      <th>129</th>\n",
              "      <td>2021</td>\n",
              "      <td>Zambia</td>\n",
              "      <td>Africa</td>\n",
              "      <td>1.386218e+07</td>\n",
              "    </tr>\n",
              "    <tr>\n",
              "      <th>130</th>\n",
              "      <td>2020</td>\n",
              "      <td>Zimbabwe</td>\n",
              "      <td>Africa</td>\n",
              "      <td>1.451389e+07</td>\n",
              "    </tr>\n",
              "    <tr>\n",
              "      <th>131</th>\n",
              "      <td>2021</td>\n",
              "      <td>Zimbabwe</td>\n",
              "      <td>Africa</td>\n",
              "      <td>1.362573e+07</td>\n",
              "    </tr>\n",
              "  </tbody>\n",
              "</table>\n",
              "<p>132 rows × 4 columns</p>\n",
              "</div>"
            ],
            "text/plain": [
              "     year    country       region  revenue_excl_VAT\n",
              "0    2020     Angola       Africa      1.493956e+07\n",
              "1    2021     Angola       Africa      1.258560e+07\n",
              "2    2020  Argentina        Latam      1.036018e+07\n",
              "3    2021  Argentina        Latam      1.158592e+07\n",
              "4    2020  Australia  Australasia      9.588939e+06\n",
              "..    ...        ...          ...               ...\n",
              "127  2021  Venezuela        Latam      1.642391e+07\n",
              "128  2020     Zambia       Africa      1.440243e+07\n",
              "129  2021     Zambia       Africa      1.386218e+07\n",
              "130  2020   Zimbabwe       Africa      1.451389e+07\n",
              "131  2021   Zimbabwe       Africa      1.362573e+07\n",
              "\n",
              "[132 rows x 4 columns]"
            ]
          },
          "execution_count": 29,
          "metadata": {},
          "output_type": "execute_result"
        }
      ],
      "source": [
        "# Using pandasql to write SQL queries\n",
        "sql_query = \"\"\"\n",
        "SELECT\n",
        "    strftime('%Y', date) AS year,\n",
        "    country,\n",
        "    region,\n",
        "    SUM(revenue_excl_VAT) AS revenue_excl_VAT\n",
        "FROM\n",
        "    result\n",
        "GROUP BY\n",
        "    country,region, year\n",
        "\"\"\"\n",
        "\n",
        "# The Query result\n",
        "query_result = ps.sqldf(sql_query, locals())\n",
        "\n",
        "# Display the result\n",
        "pd.DataFrame(query_result)\n",
        "query_result"
      ]
    },
    {
      "cell_type": "markdown",
      "id": "7a77d495",
      "metadata": {
        "id": "7a77d495"
      },
      "source": [
        "#### Question 4\n",
        "How much revenue was generated from the Middle Eastern region in 2020?"
      ]
    },
    {
      "cell_type": "code",
      "execution_count": null,
      "id": "ad1dad07",
      "metadata": {
        "id": "ad1dad07",
        "outputId": "596013ff-ce6e-4664-f2de-0d42fedc3064"
      },
      "outputs": [
        {
          "data": {
            "text/html": [
              "<div>\n",
              "<style scoped>\n",
              "    .dataframe tbody tr th:only-of-type {\n",
              "        vertical-align: middle;\n",
              "    }\n",
              "\n",
              "    .dataframe tbody tr th {\n",
              "        vertical-align: top;\n",
              "    }\n",
              "\n",
              "    .dataframe thead th {\n",
              "        text-align: right;\n",
              "    }\n",
              "</style>\n",
              "<table border=\"1\" class=\"dataframe\">\n",
              "  <thead>\n",
              "    <tr style=\"text-align: right;\">\n",
              "      <th></th>\n",
              "      <th>year</th>\n",
              "      <th>region</th>\n",
              "      <th>revenue_excl_VAT</th>\n",
              "    </tr>\n",
              "  </thead>\n",
              "  <tbody>\n",
              "    <tr>\n",
              "      <th>0</th>\n",
              "      <td>2020</td>\n",
              "      <td>Middle East</td>\n",
              "      <td>6.518306e+07</td>\n",
              "    </tr>\n",
              "  </tbody>\n",
              "</table>\n",
              "</div>"
            ],
            "text/plain": [
              "   year       region  revenue_excl_VAT\n",
              "0  2020  Middle East      6.518306e+07"
            ]
          },
          "execution_count": 30,
          "metadata": {},
          "output_type": "execute_result"
        }
      ],
      "source": [
        "# Using pandasql to write SQL queries\n",
        "sql_query = \"\"\"\n",
        "SELECT\n",
        "    strftime('%Y', date) AS year,\n",
        "    region,\n",
        "    SUM(revenue_excl_VAT) AS revenue_excl_VAT\n",
        "FROM\n",
        "    result\n",
        "GROUP BY\n",
        "    region, year\n",
        "HAVING region ='Middle East' AND year='2020'\n",
        "\"\"\"\n",
        "\n",
        "# The Query result\n",
        "query_result = ps.sqldf(sql_query, locals())\n",
        "\n",
        "# Display the result\n",
        "pd.DataFrame(query_result)\n",
        "query_result"
      ]
    },
    {
      "cell_type": "markdown",
      "id": "e5fd5ad0",
      "metadata": {
        "id": "e5fd5ad0"
      },
      "source": [
        "#### Question 5\n",
        "How much revenue was generated by Germany in 2021?"
      ]
    },
    {
      "cell_type": "code",
      "execution_count": null,
      "id": "e1821934",
      "metadata": {
        "id": "e1821934",
        "outputId": "23d31f52-b9c0-4e4d-b910-aeb71a6c1d59"
      },
      "outputs": [
        {
          "data": {
            "text/html": [
              "<div>\n",
              "<style scoped>\n",
              "    .dataframe tbody tr th:only-of-type {\n",
              "        vertical-align: middle;\n",
              "    }\n",
              "\n",
              "    .dataframe tbody tr th {\n",
              "        vertical-align: top;\n",
              "    }\n",
              "\n",
              "    .dataframe thead th {\n",
              "        text-align: right;\n",
              "    }\n",
              "</style>\n",
              "<table border=\"1\" class=\"dataframe\">\n",
              "  <thead>\n",
              "    <tr style=\"text-align: right;\">\n",
              "      <th></th>\n",
              "      <th>year</th>\n",
              "      <th>country</th>\n",
              "      <th>revenue_excl_VAT</th>\n",
              "    </tr>\n",
              "  </thead>\n",
              "  <tbody>\n",
              "    <tr>\n",
              "      <th>0</th>\n",
              "      <td>2021</td>\n",
              "      <td>Germany</td>\n",
              "      <td>1.491312e+07</td>\n",
              "    </tr>\n",
              "  </tbody>\n",
              "</table>\n",
              "</div>"
            ],
            "text/plain": [
              "   year  country  revenue_excl_VAT\n",
              "0  2021  Germany      1.491312e+07"
            ]
          },
          "execution_count": 31,
          "metadata": {},
          "output_type": "execute_result"
        }
      ],
      "source": [
        "# Using pandasql to write SQL queries\n",
        "sql_query = \"\"\"\n",
        "SELECT\n",
        "    strftime('%Y', date) AS year,\n",
        "    country,\n",
        "    SUM(revenue_excl_VAT) AS revenue_excl_VAT\n",
        "FROM\n",
        "    result\n",
        "GROUP BY\n",
        "    country, year\n",
        "HAVING country ='Germany' AND year='2021'\n",
        "\"\"\"\n",
        "\n",
        "# The Query result\n",
        "query_result = ps.sqldf(sql_query, locals())\n",
        "\n",
        "# Display the result\n",
        "pd.DataFrame(query_result)\n",
        "query_result"
      ]
    },
    {
      "cell_type": "markdown",
      "id": "e05c9f2d",
      "metadata": {
        "id": "e05c9f2d"
      },
      "source": [
        "#### Question 6\n",
        "What % of revenue from the European region was generated by France\n",
        "across both 2020 and 2021?"
      ]
    },
    {
      "cell_type": "code",
      "execution_count": null,
      "id": "075896f0",
      "metadata": {
        "id": "075896f0",
        "outputId": "5f27b96e-1aef-4757-962d-93c1fabc7222"
      },
      "outputs": [
        {
          "data": {
            "text/html": [
              "<div>\n",
              "<style scoped>\n",
              "    .dataframe tbody tr th:only-of-type {\n",
              "        vertical-align: middle;\n",
              "    }\n",
              "\n",
              "    .dataframe tbody tr th {\n",
              "        vertical-align: top;\n",
              "    }\n",
              "\n",
              "    .dataframe thead th {\n",
              "        text-align: right;\n",
              "    }\n",
              "</style>\n",
              "<table border=\"1\" class=\"dataframe\">\n",
              "  <thead>\n",
              "    <tr style=\"text-align: right;\">\n",
              "      <th></th>\n",
              "      <th>percentage_of_revenue</th>\n",
              "    </tr>\n",
              "  </thead>\n",
              "  <tbody>\n",
              "    <tr>\n",
              "      <th>0</th>\n",
              "      <td>5.11191</td>\n",
              "    </tr>\n",
              "  </tbody>\n",
              "</table>\n",
              "</div>"
            ],
            "text/plain": [
              "   percentage_of_revenue\n",
              "0                5.11191"
            ]
          },
          "execution_count": 32,
          "metadata": {},
          "output_type": "execute_result"
        }
      ],
      "source": [
        "# Using pandasql to write SQL queries\n",
        "sql_query = \"\"\"\n",
        "SELECT\n",
        "    (SUM(revenue_excl_VAT) / (SELECT SUM(revenue_excl_VAT) FROM result WHERE region = 'Europe')) * 100 AS percentage_of_revenue\n",
        "FROM\n",
        "    result\n",
        "WHERE\n",
        "    region = 'Europe' AND country = 'France';\n",
        "\"\"\"\n",
        "\n",
        "# The Query result\n",
        "query_result = ps.sqldf(sql_query, locals())\n",
        "\n",
        "# Display the result\n",
        "pd.DataFrame(query_result)\n",
        "query_result"
      ]
    },
    {
      "cell_type": "markdown",
      "id": "beca0076",
      "metadata": {
        "id": "beca0076"
      },
      "source": [
        "#### Question 7\n",
        "What was the % growth or decline in revenue generated by Egypt from 2020\n",
        "to 2021?"
      ]
    },
    {
      "cell_type": "code",
      "execution_count": null,
      "id": "a3c98123",
      "metadata": {
        "id": "a3c98123",
        "outputId": "42bbf31f-39f2-4dfa-8be3-0c4658911ee2"
      },
      "outputs": [
        {
          "data": {
            "text/html": [
              "<div>\n",
              "<style scoped>\n",
              "    .dataframe tbody tr th:only-of-type {\n",
              "        vertical-align: middle;\n",
              "    }\n",
              "\n",
              "    .dataframe tbody tr th {\n",
              "        vertical-align: top;\n",
              "    }\n",
              "\n",
              "    .dataframe thead th {\n",
              "        text-align: right;\n",
              "    }\n",
              "</style>\n",
              "<table border=\"1\" class=\"dataframe\">\n",
              "  <thead>\n",
              "    <tr style=\"text-align: right;\">\n",
              "      <th></th>\n",
              "      <th>year</th>\n",
              "      <th>country</th>\n",
              "      <th>revenue_excl_VAT</th>\n",
              "    </tr>\n",
              "  </thead>\n",
              "  <tbody>\n",
              "    <tr>\n",
              "      <th>0</th>\n",
              "      <td>2020</td>\n",
              "      <td>Egypt</td>\n",
              "      <td>1.178542e+07</td>\n",
              "    </tr>\n",
              "    <tr>\n",
              "      <th>1</th>\n",
              "      <td>2021</td>\n",
              "      <td>Egypt</td>\n",
              "      <td>1.488850e+07</td>\n",
              "    </tr>\n",
              "  </tbody>\n",
              "</table>\n",
              "</div>"
            ],
            "text/plain": [
              "   year country  revenue_excl_VAT\n",
              "0  2020   Egypt      1.178542e+07\n",
              "1  2021   Egypt      1.488850e+07"
            ]
          },
          "execution_count": 33,
          "metadata": {},
          "output_type": "execute_result"
        }
      ],
      "source": [
        "# Using pandasql to write SQL queries\n",
        "sql_query = \"\"\"\n",
        "SELECT\n",
        "    strftime('%Y', date) AS year,\n",
        "    country,\n",
        "    SUM(revenue_excl_VAT) AS revenue_excl_VAT\n",
        "FROM\n",
        "    result\n",
        "GROUP BY\n",
        "    country, year\n",
        "HAVING country ='Egypt'\n",
        "\"\"\"\n",
        "\n",
        "# The Query result\n",
        "query_result = ps.sqldf(sql_query, locals())\n",
        "\n",
        "# Display the result\n",
        "pd.DataFrame(query_result)\n",
        "query_result"
      ]
    },
    {
      "cell_type": "code",
      "execution_count": null,
      "id": "825c5298",
      "metadata": {
        "id": "825c5298",
        "outputId": "1a02538b-d9ae-4c16-8ff6-aa23e60e6f3c"
      },
      "outputs": [
        {
          "data": {
            "image/png": "[encoded data removed]",
            "text/plain": [
              "<Figure size 1000x600 with 1 Axes>"
            ]
          },
          "metadata": {},
          "output_type": "display_data"
        }
      ],
      "source": [
        "# Calculate the percentage change in revenue\n",
        "percentage_change = ((query_result['revenue_excl_VAT'].iloc[-1] - query_result['revenue_excl_VAT'].iloc[0]) / query_result['revenue_excl_VAT'].iloc[0]) * 100\n",
        "\n",
        "# Create a bar chart\n",
        "plt.figure(figsize=(10, 6))\n",
        "plt.bar(query_result['year'], query_result['revenue_excl_VAT'], width=0.4)\n",
        "plt.xlabel('Year')\n",
        "plt.ylabel('Revenue (Excl. VAT)')\n",
        "plt.title(f'Revenue Change for {query_result.iloc[0][\"country\"]} ({query_result.iloc[0][\"year\"]} - {query_result.iloc[1][\"year\"]})\\nPercentage Change: {percentage_change:.2f}%')\n",
        "plt.xticks(query_result['year'])\n",
        "plt.show()"
      ]
    },
    {
      "cell_type": "markdown",
      "id": "4a672fa1",
      "metadata": {
        "id": "4a672fa1"
      },
      "source": [
        "#### Question 9\n",
        "\n",
        "Calculate the % growth or decline for each region between 2020 and 2021"
      ]
    },
    {
      "cell_type": "code",
      "execution_count": null,
      "id": "ec7e52ae",
      "metadata": {
        "id": "ec7e52ae",
        "outputId": "111ef4aa-e787-45ea-f595-845d84bffdb2"
      },
      "outputs": [
        {
          "data": {
            "text/html": [
              "<div>\n",
              "<style scoped>\n",
              "    .dataframe tbody tr th:only-of-type {\n",
              "        vertical-align: middle;\n",
              "    }\n",
              "\n",
              "    .dataframe tbody tr th {\n",
              "        vertical-align: top;\n",
              "    }\n",
              "\n",
              "    .dataframe thead th {\n",
              "        text-align: right;\n",
              "    }\n",
              "</style>\n",
              "<table border=\"1\" class=\"dataframe\">\n",
              "  <thead>\n",
              "    <tr style=\"text-align: right;\">\n",
              "      <th></th>\n",
              "      <th>year</th>\n",
              "      <th>region</th>\n",
              "      <th>revenue_excl_VAT</th>\n",
              "    </tr>\n",
              "  </thead>\n",
              "  <tbody>\n",
              "    <tr>\n",
              "      <th>0</th>\n",
              "      <td>2020</td>\n",
              "      <td>Africa</td>\n",
              "      <td>2.129254e+08</td>\n",
              "    </tr>\n",
              "    <tr>\n",
              "      <th>1</th>\n",
              "      <td>2021</td>\n",
              "      <td>Africa</td>\n",
              "      <td>2.619156e+08</td>\n",
              "    </tr>\n",
              "    <tr>\n",
              "      <th>2</th>\n",
              "      <td>2020</td>\n",
              "      <td>Asia</td>\n",
              "      <td>1.319976e+08</td>\n",
              "    </tr>\n",
              "    <tr>\n",
              "      <th>3</th>\n",
              "      <td>2021</td>\n",
              "      <td>Asia</td>\n",
              "      <td>1.775608e+08</td>\n",
              "    </tr>\n",
              "    <tr>\n",
              "      <th>4</th>\n",
              "      <td>2020</td>\n",
              "      <td>Australasia</td>\n",
              "      <td>3.365643e+07</td>\n",
              "    </tr>\n",
              "    <tr>\n",
              "      <th>5</th>\n",
              "      <td>2021</td>\n",
              "      <td>Australasia</td>\n",
              "      <td>4.961240e+07</td>\n",
              "    </tr>\n",
              "    <tr>\n",
              "      <th>6</th>\n",
              "      <td>2020</td>\n",
              "      <td>Europe</td>\n",
              "      <td>2.381234e+08</td>\n",
              "    </tr>\n",
              "    <tr>\n",
              "      <th>7</th>\n",
              "      <td>2021</td>\n",
              "      <td>Europe</td>\n",
              "      <td>3.161325e+08</td>\n",
              "    </tr>\n",
              "    <tr>\n",
              "      <th>8</th>\n",
              "      <td>2020</td>\n",
              "      <td>Indian Ocean</td>\n",
              "      <td>2.268035e+07</td>\n",
              "    </tr>\n",
              "    <tr>\n",
              "      <th>9</th>\n",
              "      <td>2021</td>\n",
              "      <td>Indian Ocean</td>\n",
              "      <td>3.485660e+07</td>\n",
              "    </tr>\n",
              "    <tr>\n",
              "      <th>10</th>\n",
              "      <td>2020</td>\n",
              "      <td>Latam</td>\n",
              "      <td>7.169833e+07</td>\n",
              "    </tr>\n",
              "    <tr>\n",
              "      <th>11</th>\n",
              "      <td>2021</td>\n",
              "      <td>Latam</td>\n",
              "      <td>9.221787e+07</td>\n",
              "    </tr>\n",
              "    <tr>\n",
              "      <th>12</th>\n",
              "      <td>2020</td>\n",
              "      <td>Middle East</td>\n",
              "      <td>6.518306e+07</td>\n",
              "    </tr>\n",
              "    <tr>\n",
              "      <th>13</th>\n",
              "      <td>2021</td>\n",
              "      <td>Middle East</td>\n",
              "      <td>7.562249e+07</td>\n",
              "    </tr>\n",
              "    <tr>\n",
              "      <th>14</th>\n",
              "      <td>2020</td>\n",
              "      <td>North America</td>\n",
              "      <td>2.457187e+07</td>\n",
              "    </tr>\n",
              "    <tr>\n",
              "      <th>15</th>\n",
              "      <td>2021</td>\n",
              "      <td>North America</td>\n",
              "      <td>3.051417e+07</td>\n",
              "    </tr>\n",
              "  </tbody>\n",
              "</table>\n",
              "</div>"
            ],
            "text/plain": [
              "    year         region  revenue_excl_VAT\n",
              "0   2020         Africa      2.129254e+08\n",
              "1   2021         Africa      2.619156e+08\n",
              "2   2020           Asia      1.319976e+08\n",
              "3   2021           Asia      1.775608e+08\n",
              "4   2020    Australasia      3.365643e+07\n",
              "5   2021    Australasia      4.961240e+07\n",
              "6   2020         Europe      2.381234e+08\n",
              "7   2021         Europe      3.161325e+08\n",
              "8   2020   Indian Ocean      2.268035e+07\n",
              "9   2021   Indian Ocean      3.485660e+07\n",
              "10  2020          Latam      7.169833e+07\n",
              "11  2021          Latam      9.221787e+07\n",
              "12  2020    Middle East      6.518306e+07\n",
              "13  2021    Middle East      7.562249e+07\n",
              "14  2020  North America      2.457187e+07\n",
              "15  2021  North America      3.051417e+07"
            ]
          },
          "execution_count": 35,
          "metadata": {},
          "output_type": "execute_result"
        }
      ],
      "source": [
        "# Using pandasql to write SQL queries\n",
        "sql_query = \"\"\"\n",
        "SELECT\n",
        "    strftime('%Y', date) AS year,\n",
        "    region,\n",
        "    SUM(revenue_excl_VAT) AS revenue_excl_VAT\n",
        "FROM\n",
        "    result\n",
        "GROUP BY\n",
        "    region, year\n",
        "\"\"\"\n",
        "\n",
        "# The Query result\n",
        "query_result = ps.sqldf(sql_query, locals())\n",
        "\n",
        "# Display the result\n",
        "pd.DataFrame(query_result)\n",
        "query_result"
      ]
    },
    {
      "cell_type": "code",
      "execution_count": null,
      "id": "da146086",
      "metadata": {
        "id": "da146086",
        "outputId": "93eb8c6d-820b-4f21-8ceb-23b8acdc3623"
      },
      "outputs": [
        {
          "data": {
            "image/png": "[encoded data removed]",
            "text/plain": [
              "<Figure size 1000x600 with 1 Axes>"
            ]
          },
          "metadata": {},
          "output_type": "display_data"
        }
      ],
      "source": [
        "# Create a DataFrame from the sample data\n",
        "df = query_result\n",
        "\n",
        "# Pivot the data to have years as columns and regions as index\n",
        "pivot_df = df.pivot(index='region', columns='year', values='revenue_excl_VAT')\n",
        "\n",
        "# Calculate the percentage change in revenue for each region\n",
        "pivot_df['change_percentage'] = (pivot_df['2021'] - pivot_df['2020']) / pivot_df['2020'] * 100\n",
        "\n",
        "# Create a bar chart with colors indicating growth or decline\n",
        "colors = ['g' if change >= 0 else 'r' for change in pivot_df['change_percentage']]\n",
        "\n",
        "plt.figure(figsize=(10, 6))\n",
        "bars = plt.bar(pivot_df.index, pivot_df['change_percentage'], color=colors)\n",
        "plt.xlabel('Region')\n",
        "plt.ylabel('Percentage Change in Revenue')\n",
        "plt.title('Percentage Revenue Change for Each Region (2020-2021)')\n",
        "\n",
        "# Add percentage labels on top of each bar\n",
        "for bar, label in zip(bars, pivot_df['change_percentage']):\n",
        "    plt.text(bar.get_x() + bar.get_width() / 2, label, f'{label:.2f}%', ha='center', va='bottom')\n",
        "\n",
        "\n",
        "plt.show()"
      ]
    },
    {
      "cell_type": "markdown",
      "id": "bcbd5bf0",
      "metadata": {
        "id": "bcbd5bf0"
      },
      "source": [
        "#### Question 10\n",
        "What is the French growth rank in relation to all countries’ revenue excl VAT\n",
        "growth rates between 2020 and 2021?"
      ]
    },
    {
      "cell_type": "code",
      "execution_count": null,
      "id": "d4176fa9",
      "metadata": {
        "id": "d4176fa9",
        "outputId": "4b748434-cd3f-4b43-e1d8-8bc7bb36606f"
      },
      "outputs": [
        {
          "data": {
            "text/html": [
              "<div>\n",
              "<style scoped>\n",
              "    .dataframe tbody tr th:only-of-type {\n",
              "        vertical-align: middle;\n",
              "    }\n",
              "\n",
              "    .dataframe tbody tr th {\n",
              "        vertical-align: top;\n",
              "    }\n",
              "\n",
              "    .dataframe thead th {\n",
              "        text-align: right;\n",
              "    }\n",
              "</style>\n",
              "<table border=\"1\" class=\"dataframe\">\n",
              "  <thead>\n",
              "    <tr style=\"text-align: right;\">\n",
              "      <th></th>\n",
              "      <th>year</th>\n",
              "      <th>country</th>\n",
              "      <th>revenue_excl_VAT</th>\n",
              "    </tr>\n",
              "  </thead>\n",
              "  <tbody>\n",
              "    <tr>\n",
              "      <th>0</th>\n",
              "      <td>2020</td>\n",
              "      <td>Angola</td>\n",
              "      <td>1.493956e+07</td>\n",
              "    </tr>\n",
              "    <tr>\n",
              "      <th>1</th>\n",
              "      <td>2021</td>\n",
              "      <td>Angola</td>\n",
              "      <td>1.258560e+07</td>\n",
              "    </tr>\n",
              "    <tr>\n",
              "      <th>2</th>\n",
              "      <td>2020</td>\n",
              "      <td>Argentina</td>\n",
              "      <td>1.036018e+07</td>\n",
              "    </tr>\n",
              "    <tr>\n",
              "      <th>3</th>\n",
              "      <td>2021</td>\n",
              "      <td>Argentina</td>\n",
              "      <td>1.158592e+07</td>\n",
              "    </tr>\n",
              "    <tr>\n",
              "      <th>4</th>\n",
              "      <td>2020</td>\n",
              "      <td>Australia</td>\n",
              "      <td>9.588939e+06</td>\n",
              "    </tr>\n",
              "    <tr>\n",
              "      <th>...</th>\n",
              "      <td>...</td>\n",
              "      <td>...</td>\n",
              "      <td>...</td>\n",
              "    </tr>\n",
              "    <tr>\n",
              "      <th>117</th>\n",
              "      <td>2021</td>\n",
              "      <td>Venezuela</td>\n",
              "      <td>1.642391e+07</td>\n",
              "    </tr>\n",
              "    <tr>\n",
              "      <th>118</th>\n",
              "      <td>2020</td>\n",
              "      <td>Zambia</td>\n",
              "      <td>1.440243e+07</td>\n",
              "    </tr>\n",
              "    <tr>\n",
              "      <th>119</th>\n",
              "      <td>2021</td>\n",
              "      <td>Zambia</td>\n",
              "      <td>1.386218e+07</td>\n",
              "    </tr>\n",
              "    <tr>\n",
              "      <th>120</th>\n",
              "      <td>2020</td>\n",
              "      <td>Zimbabwe</td>\n",
              "      <td>1.451389e+07</td>\n",
              "    </tr>\n",
              "    <tr>\n",
              "      <th>121</th>\n",
              "      <td>2021</td>\n",
              "      <td>Zimbabwe</td>\n",
              "      <td>1.362573e+07</td>\n",
              "    </tr>\n",
              "  </tbody>\n",
              "</table>\n",
              "<p>122 rows × 3 columns</p>\n",
              "</div>"
            ],
            "text/plain": [
              "     year    country  revenue_excl_VAT\n",
              "0    2020     Angola      1.493956e+07\n",
              "1    2021     Angola      1.258560e+07\n",
              "2    2020  Argentina      1.036018e+07\n",
              "3    2021  Argentina      1.158592e+07\n",
              "4    2020  Australia      9.588939e+06\n",
              "..    ...        ...               ...\n",
              "117  2021  Venezuela      1.642391e+07\n",
              "118  2020     Zambia      1.440243e+07\n",
              "119  2021     Zambia      1.386218e+07\n",
              "120  2020   Zimbabwe      1.451389e+07\n",
              "121  2021   Zimbabwe      1.362573e+07\n",
              "\n",
              "[122 rows x 3 columns]"
            ]
          },
          "execution_count": 37,
          "metadata": {},
          "output_type": "execute_result"
        }
      ],
      "source": [
        "# Using pandasql to write SQL queries\n",
        "sql_query = \"\"\"\n",
        "SELECT\n",
        "    strftime('%Y', date) AS year,\n",
        "    country,\n",
        "    SUM(revenue_excl_VAT) AS revenue_excl_VAT\n",
        "FROM\n",
        "    result\n",
        "GROUP BY\n",
        "    country, year\n",
        "\"\"\"\n",
        "\n",
        "# The Query result\n",
        "query_result = ps.sqldf(sql_query, locals())\n",
        "\n",
        "# Display the result\n",
        "pd.DataFrame(query_result)\n",
        "query_result"
      ]
    },
    {
      "cell_type": "code",
      "execution_count": null,
      "id": "4f9fd6c1",
      "metadata": {
        "id": "4f9fd6c1",
        "outputId": "a1373c77-4737-411a-af08-251ab69f7828"
      },
      "outputs": [
        {
          "data": {
            "image/png": "[encoded data removed]",
            "text/plain": [
              "<Figure size 1500x600 with 1 Axes>"
            ]
          },
          "metadata": {},
          "output_type": "display_data"
        }
      ],
      "source": [
        "# Create a DataFrame from the sample data\n",
        "df = query_result\n",
        "\n",
        "# Pivot the data to have years as columns and regions as index\n",
        "pivot_df = df.pivot(index='country', columns='year', values='revenue_excl_VAT')\n",
        "\n",
        "# Calculate the percentage change in revenue for each region\n",
        "pivot_df['change_percentage'] = (pivot_df['2021'] - pivot_df['2020']) / pivot_df['2020'] * 100\n",
        "\n",
        "# Sort the data by the highest change in revenue (percentage change)\n",
        "pivot_df = pivot_df.sort_values(by='change_percentage', ascending=False)\n",
        "\n",
        "# Define colors for bars based on revenue change, highlight France in yellow\n",
        "colors = ['yellow' if country == 'France' else ('g' if change >= 0 else 'r') for country, change in zip(pivot_df.index, pivot_df['change_percentage'])]\n",
        "\n",
        "plt.figure(figsize=(15, 6))\n",
        "bars = plt.bar(pivot_df.index, pivot_df['change_percentage'], color=colors)\n",
        "plt.xlabel('Country')\n",
        "plt.ylabel('Percentage Change in Revenue')\n",
        "plt.title('Percentage Revenue Change for Each Country, highlighting France (2020-2021)')\n",
        "\n",
        "plt.xticks(rotation=90)\n",
        "\n",
        "plt.show()"
      ]
    },
    {
      "cell_type": "markdown",
      "id": "ba31ebf4",
      "metadata": {
        "id": "ba31ebf4"
      },
      "source": [
        "#### Question 11\n",
        "Which was the fastest growing country in % revenue excl VAT growth\n",
        "between 2020 and 2021?\n",
        "\n",
        "**From the previous visual, we can see that Japan in the fastest growing country in Revenue Percentage**"
      ]
    },
    {
      "cell_type": "markdown",
      "id": "a592f8c8",
      "metadata": {
        "id": "a592f8c8"
      },
      "source": [
        "#### Question 12\n",
        "\n",
        "Which region represents the 3rd largest market in 2020?"
      ]
    },
    {
      "cell_type": "code",
      "execution_count": null,
      "id": "3b969732",
      "metadata": {
        "id": "3b969732",
        "outputId": "bdda5483-927b-4172-edc4-7693d1bb0709"
      },
      "outputs": [
        {
          "data": {
            "text/html": [
              "<div>\n",
              "<style scoped>\n",
              "    .dataframe tbody tr th:only-of-type {\n",
              "        vertical-align: middle;\n",
              "    }\n",
              "\n",
              "    .dataframe tbody tr th {\n",
              "        vertical-align: top;\n",
              "    }\n",
              "\n",
              "    .dataframe thead th {\n",
              "        text-align: right;\n",
              "    }\n",
              "</style>\n",
              "<table border=\"1\" class=\"dataframe\">\n",
              "  <thead>\n",
              "    <tr style=\"text-align: right;\">\n",
              "      <th></th>\n",
              "      <th>year</th>\n",
              "      <th>region</th>\n",
              "      <th>total_revenue</th>\n",
              "    </tr>\n",
              "  </thead>\n",
              "  <tbody>\n",
              "    <tr>\n",
              "      <th>0</th>\n",
              "      <td>2020</td>\n",
              "      <td>Asia</td>\n",
              "      <td>1.319976e+08</td>\n",
              "    </tr>\n",
              "  </tbody>\n",
              "</table>\n",
              "</div>"
            ],
            "text/plain": [
              "   year region  total_revenue\n",
              "0  2020   Asia   1.319976e+08"
            ]
          },
          "execution_count": 39,
          "metadata": {},
          "output_type": "execute_result"
        }
      ],
      "source": [
        "# Using pandasql to write SQL queries\n",
        "sql_query = \"\"\"\n",
        "SELECT\n",
        "    strftime('%Y', date) AS year,\n",
        "    region,\n",
        "    SUM(revenue_excl_VAT) AS total_revenue\n",
        "FROM result\n",
        "WHERE year = '2020'\n",
        "GROUP BY region\n",
        "ORDER BY total_revenue DESC\n",
        "LIMIT 1 OFFSET 2;\n",
        "\"\"\"\n",
        "\n",
        "# The Query result\n",
        "query_result = ps.sqldf(sql_query, locals())\n",
        "\n",
        "# Display the result\n",
        "pd.DataFrame(query_result)\n",
        "query_result"
      ]
    },
    {
      "cell_type": "markdown",
      "id": "dc35c64b",
      "metadata": {
        "id": "dc35c64b"
      },
      "source": [
        "#### Question 13\n",
        "Create 3 line chart visuals, one per channel, that displays the revenue excl\n",
        "VAT split by year, i.e. each chart must have 2 lines, using month as the\n",
        "x-axes."
      ]
    },
    {
      "cell_type": "code",
      "execution_count": null,
      "id": "3d7f1075",
      "metadata": {
        "id": "3d7f1075",
        "outputId": "87abf023-90be-4ec6-99ce-c8bfbc8405c9"
      },
      "outputs": [
        {
          "data": {
            "text/html": [
              "<div>\n",
              "<style scoped>\n",
              "    .dataframe tbody tr th:only-of-type {\n",
              "        vertical-align: middle;\n",
              "    }\n",
              "\n",
              "    .dataframe tbody tr th {\n",
              "        vertical-align: top;\n",
              "    }\n",
              "\n",
              "    .dataframe thead th {\n",
              "        text-align: right;\n",
              "    }\n",
              "</style>\n",
              "<table border=\"1\" class=\"dataframe\">\n",
              "  <thead>\n",
              "    <tr style=\"text-align: right;\">\n",
              "      <th></th>\n",
              "      <th>year</th>\n",
              "      <th>month</th>\n",
              "      <th>channel</th>\n",
              "      <th>revenue_excl_VAT</th>\n",
              "    </tr>\n",
              "  </thead>\n",
              "  <tbody>\n",
              "    <tr>\n",
              "      <th>0</th>\n",
              "      <td>2020</td>\n",
              "      <td>01</td>\n",
              "      <td>Non-Paid</td>\n",
              "      <td>1.895496e+07</td>\n",
              "    </tr>\n",
              "    <tr>\n",
              "      <th>1</th>\n",
              "      <td>2020</td>\n",
              "      <td>01</td>\n",
              "      <td>Offline</td>\n",
              "      <td>2.326238e+07</td>\n",
              "    </tr>\n",
              "    <tr>\n",
              "      <th>2</th>\n",
              "      <td>2020</td>\n",
              "      <td>01</td>\n",
              "      <td>Paid</td>\n",
              "      <td>1.991502e+07</td>\n",
              "    </tr>\n",
              "    <tr>\n",
              "      <th>3</th>\n",
              "      <td>2020</td>\n",
              "      <td>02</td>\n",
              "      <td>Non-Paid</td>\n",
              "      <td>2.039203e+07</td>\n",
              "    </tr>\n",
              "    <tr>\n",
              "      <th>4</th>\n",
              "      <td>2020</td>\n",
              "      <td>02</td>\n",
              "      <td>Offline</td>\n",
              "      <td>1.911330e+07</td>\n",
              "    </tr>\n",
              "    <tr>\n",
              "      <th>...</th>\n",
              "      <td>...</td>\n",
              "      <td>...</td>\n",
              "      <td>...</td>\n",
              "      <td>...</td>\n",
              "    </tr>\n",
              "    <tr>\n",
              "      <th>67</th>\n",
              "      <td>2021</td>\n",
              "      <td>11</td>\n",
              "      <td>Offline</td>\n",
              "      <td>3.446102e+07</td>\n",
              "    </tr>\n",
              "    <tr>\n",
              "      <th>68</th>\n",
              "      <td>2021</td>\n",
              "      <td>11</td>\n",
              "      <td>Paid</td>\n",
              "      <td>3.726500e+07</td>\n",
              "    </tr>\n",
              "    <tr>\n",
              "      <th>69</th>\n",
              "      <td>2021</td>\n",
              "      <td>12</td>\n",
              "      <td>Non-Paid</td>\n",
              "      <td>2.158309e+07</td>\n",
              "    </tr>\n",
              "    <tr>\n",
              "      <th>70</th>\n",
              "      <td>2021</td>\n",
              "      <td>12</td>\n",
              "      <td>Offline</td>\n",
              "      <td>2.260213e+07</td>\n",
              "    </tr>\n",
              "    <tr>\n",
              "      <th>71</th>\n",
              "      <td>2021</td>\n",
              "      <td>12</td>\n",
              "      <td>Paid</td>\n",
              "      <td>2.675484e+07</td>\n",
              "    </tr>\n",
              "  </tbody>\n",
              "</table>\n",
              "<p>72 rows × 4 columns</p>\n",
              "</div>"
            ],
            "text/plain": [
              "    year month   channel  revenue_excl_VAT\n",
              "0   2020    01  Non-Paid      1.895496e+07\n",
              "1   2020    01   Offline      2.326238e+07\n",
              "2   2020    01      Paid      1.991502e+07\n",
              "3   2020    02  Non-Paid      2.039203e+07\n",
              "4   2020    02   Offline      1.911330e+07\n",
              "..   ...   ...       ...               ...\n",
              "67  2021    11   Offline      3.446102e+07\n",
              "68  2021    11      Paid      3.726500e+07\n",
              "69  2021    12  Non-Paid      2.158309e+07\n",
              "70  2021    12   Offline      2.260213e+07\n",
              "71  2021    12      Paid      2.675484e+07\n",
              "\n",
              "[72 rows x 4 columns]"
            ]
          },
          "execution_count": 40,
          "metadata": {},
          "output_type": "execute_result"
        }
      ],
      "source": [
        "# Using pandasql to write SQL queries\n",
        "sql_query = \"\"\"\n",
        "SELECT\n",
        "    strftime('%Y', date) AS year,\n",
        "    strftime('%m', date) AS month,\n",
        "    channel,\n",
        "    SUM(revenue_excl_VAT) AS revenue_excl_VAT\n",
        "FROM result\n",
        "GROUP BY year, month,channel\n",
        "\"\"\"\n",
        "\n",
        "# The Query result\n",
        "query_result = ps.sqldf(sql_query, locals())\n",
        "\n",
        "# Display the result\n",
        "pd.DataFrame(query_result)\n",
        "query_result"
      ]
    },
    {
      "cell_type": "code",
      "execution_count": null,
      "id": "60a93b03",
      "metadata": {
        "id": "60a93b03",
        "outputId": "acb0a651-2690-4377-ccf2-f6dfe39c2f62"
      },
      "outputs": [
        {
          "data": {
            "image/png": "[encoded data removed]",
            "text/plain": [
              "<Figure size 800x1500 with 3 Axes>"
            ]
          },
          "metadata": {},
          "output_type": "display_data"
        }
      ],
      "source": [
        "# Create a DataFrame from the sample data\n",
        "df = query_result\n",
        "\n",
        "# Create a figure with subplots for each channel in a vertical arrangement\n",
        "channels = df['channel'].unique()\n",
        "fig, axes = plt.subplots(nrows=len(channels), ncols=1, figsize=(8,15))\n",
        "\n",
        "for i, channel in enumerate(channels):\n",
        "    channel_data = df[df['channel'] == channel]\n",
        "    years = channel_data['year'].unique()\n",
        "\n",
        "    for year in years:\n",
        "        year_data = channel_data[channel_data['year'] == year]\n",
        "        axes[i].plot(year_data['month'], year_data['revenue_excl_VAT'], label=f'Year {year}')\n",
        "\n",
        "    axes[i].set_xlabel('Month')\n",
        "    axes[i].set_ylabel('Revenue (Excl. VAT)')\n",
        "    axes[i].set_title(f'Channel {channel}')\n",
        "    axes[i].legend(loc='upper right')\n",
        "    axes[i].grid(True)\n",
        "\n",
        "# Adjust the layout\n",
        "plt.tight_layout()\n",
        "plt.show()"
      ]
    },
    {
      "cell_type": "markdown",
      "id": "f3294cde",
      "metadata": {
        "id": "f3294cde"
      },
      "source": [
        "#### Question 14\n",
        "Create a bar chart visual that shows revenue excl VAT split by year, using\n",
        "region as x-axes."
      ]
    },
    {
      "cell_type": "code",
      "execution_count": null,
      "id": "54018697",
      "metadata": {
        "id": "54018697",
        "outputId": "4e13f525-7cfd-47d3-f5a2-d7dc24d99bda"
      },
      "outputs": [
        {
          "data": {
            "text/html": [
              "<div>\n",
              "<style scoped>\n",
              "    .dataframe tbody tr th:only-of-type {\n",
              "        vertical-align: middle;\n",
              "    }\n",
              "\n",
              "    .dataframe tbody tr th {\n",
              "        vertical-align: top;\n",
              "    }\n",
              "\n",
              "    .dataframe thead th {\n",
              "        text-align: right;\n",
              "    }\n",
              "</style>\n",
              "<table border=\"1\" class=\"dataframe\">\n",
              "  <thead>\n",
              "    <tr style=\"text-align: right;\">\n",
              "      <th></th>\n",
              "      <th>year</th>\n",
              "      <th>region</th>\n",
              "      <th>revenue_excl_VAT</th>\n",
              "    </tr>\n",
              "  </thead>\n",
              "  <tbody>\n",
              "    <tr>\n",
              "      <th>0</th>\n",
              "      <td>2020</td>\n",
              "      <td>Africa</td>\n",
              "      <td>2.129254e+08</td>\n",
              "    </tr>\n",
              "    <tr>\n",
              "      <th>1</th>\n",
              "      <td>2021</td>\n",
              "      <td>Africa</td>\n",
              "      <td>2.619156e+08</td>\n",
              "    </tr>\n",
              "    <tr>\n",
              "      <th>2</th>\n",
              "      <td>2020</td>\n",
              "      <td>Asia</td>\n",
              "      <td>1.319976e+08</td>\n",
              "    </tr>\n",
              "    <tr>\n",
              "      <th>3</th>\n",
              "      <td>2021</td>\n",
              "      <td>Asia</td>\n",
              "      <td>1.775608e+08</td>\n",
              "    </tr>\n",
              "    <tr>\n",
              "      <th>4</th>\n",
              "      <td>2020</td>\n",
              "      <td>Australasia</td>\n",
              "      <td>3.365643e+07</td>\n",
              "    </tr>\n",
              "    <tr>\n",
              "      <th>5</th>\n",
              "      <td>2021</td>\n",
              "      <td>Australasia</td>\n",
              "      <td>4.961240e+07</td>\n",
              "    </tr>\n",
              "    <tr>\n",
              "      <th>6</th>\n",
              "      <td>2020</td>\n",
              "      <td>Europe</td>\n",
              "      <td>2.381234e+08</td>\n",
              "    </tr>\n",
              "    <tr>\n",
              "      <th>7</th>\n",
              "      <td>2021</td>\n",
              "      <td>Europe</td>\n",
              "      <td>3.161325e+08</td>\n",
              "    </tr>\n",
              "    <tr>\n",
              "      <th>8</th>\n",
              "      <td>2020</td>\n",
              "      <td>Indian Ocean</td>\n",
              "      <td>2.268035e+07</td>\n",
              "    </tr>\n",
              "    <tr>\n",
              "      <th>9</th>\n",
              "      <td>2021</td>\n",
              "      <td>Indian Ocean</td>\n",
              "      <td>3.485660e+07</td>\n",
              "    </tr>\n",
              "    <tr>\n",
              "      <th>10</th>\n",
              "      <td>2020</td>\n",
              "      <td>Latam</td>\n",
              "      <td>7.169833e+07</td>\n",
              "    </tr>\n",
              "    <tr>\n",
              "      <th>11</th>\n",
              "      <td>2021</td>\n",
              "      <td>Latam</td>\n",
              "      <td>9.221787e+07</td>\n",
              "    </tr>\n",
              "    <tr>\n",
              "      <th>12</th>\n",
              "      <td>2020</td>\n",
              "      <td>Middle East</td>\n",
              "      <td>6.518306e+07</td>\n",
              "    </tr>\n",
              "    <tr>\n",
              "      <th>13</th>\n",
              "      <td>2021</td>\n",
              "      <td>Middle East</td>\n",
              "      <td>7.562249e+07</td>\n",
              "    </tr>\n",
              "    <tr>\n",
              "      <th>14</th>\n",
              "      <td>2020</td>\n",
              "      <td>North America</td>\n",
              "      <td>2.457187e+07</td>\n",
              "    </tr>\n",
              "    <tr>\n",
              "      <th>15</th>\n",
              "      <td>2021</td>\n",
              "      <td>North America</td>\n",
              "      <td>3.051417e+07</td>\n",
              "    </tr>\n",
              "  </tbody>\n",
              "</table>\n",
              "</div>"
            ],
            "text/plain": [
              "    year         region  revenue_excl_VAT\n",
              "0   2020         Africa      2.129254e+08\n",
              "1   2021         Africa      2.619156e+08\n",
              "2   2020           Asia      1.319976e+08\n",
              "3   2021           Asia      1.775608e+08\n",
              "4   2020    Australasia      3.365643e+07\n",
              "5   2021    Australasia      4.961240e+07\n",
              "6   2020         Europe      2.381234e+08\n",
              "7   2021         Europe      3.161325e+08\n",
              "8   2020   Indian Ocean      2.268035e+07\n",
              "9   2021   Indian Ocean      3.485660e+07\n",
              "10  2020          Latam      7.169833e+07\n",
              "11  2021          Latam      9.221787e+07\n",
              "12  2020    Middle East      6.518306e+07\n",
              "13  2021    Middle East      7.562249e+07\n",
              "14  2020  North America      2.457187e+07\n",
              "15  2021  North America      3.051417e+07"
            ]
          },
          "execution_count": 42,
          "metadata": {},
          "output_type": "execute_result"
        }
      ],
      "source": [
        " # Using pandasql to write SQL queries\n",
        "sql_query = \"\"\"\n",
        "SELECT\n",
        "    strftime('%Y', date) AS year,\n",
        "    region,\n",
        "    SUM(revenue_excl_VAT) AS revenue_excl_VAT\n",
        "FROM result\n",
        "GROUP BY region, year\n",
        "\"\"\"\n",
        "\n",
        "# The Query result\n",
        "query_result = ps.sqldf(sql_query, locals())\n",
        "\n",
        "# Display the result\n",
        "pd.DataFrame(query_result)\n",
        "query_result"
      ]
    },
    {
      "cell_type": "code",
      "execution_count": null,
      "id": "cf71bc73",
      "metadata": {
        "id": "cf71bc73",
        "outputId": "8672803d-fbf3-4eee-d5a5-13dd808c6332"
      },
      "outputs": [
        {
          "data": {
            "image/png": "[encoded data removed]",
            "text/plain": [
              "<Figure size 1000x600 with 1 Axes>"
            ]
          },
          "metadata": {},
          "output_type": "display_data"
        }
      ],
      "source": [
        "# Create a DataFrame from the sample data\n",
        "df = query_result\n",
        "\n",
        "# Group the data by year and region and calculate the total revenue for each group\n",
        "grouped = df.groupby(['year', 'region'])['revenue_excl_VAT'].sum().unstack()\n",
        "\n",
        "# Create a bar chart\n",
        "grouped.plot(kind='bar', figsize=(10, 6))\n",
        "plt.xlabel('Region')\n",
        "plt.ylabel('Total Revenue (Excl. VAT)')\n",
        "plt.title('Revenue by Region and Year')\n",
        "plt.xticks(rotation=0)  # Keep the x-axis labels horizontal\n",
        "\n",
        "plt.show()"
      ]
    },
    {
      "cell_type": "markdown",
      "id": "7fbae05d",
      "metadata": {
        "id": "7fbae05d"
      },
      "source": [
        "#### Question 15\n",
        "Create a table visual that provides an overview of consultant performance\n",
        "across the total of 2020 and 2021."
      ]
    },
    {
      "cell_type": "code",
      "execution_count": null,
      "id": "e1dd966a",
      "metadata": {
        "id": "e1dd966a",
        "outputId": "bced4f14-bb75-43ab-cc97-8b8fa56d64d2"
      },
      "outputs": [
        {
          "data": {
            "text/html": [
              "<div>\n",
              "<style scoped>\n",
              "    .dataframe tbody tr th:only-of-type {\n",
              "        vertical-align: middle;\n",
              "    }\n",
              "\n",
              "    .dataframe tbody tr th {\n",
              "        vertical-align: top;\n",
              "    }\n",
              "\n",
              "    .dataframe thead th {\n",
              "        text-align: right;\n",
              "    }\n",
              "</style>\n",
              "<table border=\"1\" class=\"dataframe\">\n",
              "  <thead>\n",
              "    <tr style=\"text-align: right;\">\n",
              "      <th></th>\n",
              "      <th>year</th>\n",
              "      <th>consultant_name</th>\n",
              "      <th>revenue_excl_VAT</th>\n",
              "    </tr>\n",
              "  </thead>\n",
              "  <tbody>\n",
              "    <tr>\n",
              "      <th>0</th>\n",
              "      <td>2020</td>\n",
              "      <td>Alfonso</td>\n",
              "      <td>1.868222e+07</td>\n",
              "    </tr>\n",
              "    <tr>\n",
              "      <th>1</th>\n",
              "      <td>2021</td>\n",
              "      <td>Alfonso</td>\n",
              "      <td>2.244022e+07</td>\n",
              "    </tr>\n",
              "    <tr>\n",
              "      <th>2</th>\n",
              "      <td>2020</td>\n",
              "      <td>Alvie</td>\n",
              "      <td>1.359673e+07</td>\n",
              "    </tr>\n",
              "    <tr>\n",
              "      <th>3</th>\n",
              "      <td>2021</td>\n",
              "      <td>Alvie</td>\n",
              "      <td>2.128886e+07</td>\n",
              "    </tr>\n",
              "    <tr>\n",
              "      <th>4</th>\n",
              "      <td>2020</td>\n",
              "      <td>Barry</td>\n",
              "      <td>1.493190e+07</td>\n",
              "    </tr>\n",
              "    <tr>\n",
              "      <th>...</th>\n",
              "      <td>...</td>\n",
              "      <td>...</td>\n",
              "      <td>...</td>\n",
              "    </tr>\n",
              "    <tr>\n",
              "      <th>95</th>\n",
              "      <td>2021</td>\n",
              "      <td>Weston</td>\n",
              "      <td>1.856843e+07</td>\n",
              "    </tr>\n",
              "    <tr>\n",
              "      <th>96</th>\n",
              "      <td>2020</td>\n",
              "      <td>Williamson</td>\n",
              "      <td>1.304520e+07</td>\n",
              "    </tr>\n",
              "    <tr>\n",
              "      <th>97</th>\n",
              "      <td>2021</td>\n",
              "      <td>Williamson</td>\n",
              "      <td>2.265814e+07</td>\n",
              "    </tr>\n",
              "    <tr>\n",
              "      <th>98</th>\n",
              "      <td>2020</td>\n",
              "      <td>Yaslene</td>\n",
              "      <td>1.576214e+07</td>\n",
              "    </tr>\n",
              "    <tr>\n",
              "      <th>99</th>\n",
              "      <td>2021</td>\n",
              "      <td>Yaslene</td>\n",
              "      <td>2.352779e+07</td>\n",
              "    </tr>\n",
              "  </tbody>\n",
              "</table>\n",
              "<p>100 rows × 3 columns</p>\n",
              "</div>"
            ],
            "text/plain": [
              "    year consultant_name  revenue_excl_VAT\n",
              "0   2020         Alfonso      1.868222e+07\n",
              "1   2021         Alfonso      2.244022e+07\n",
              "2   2020           Alvie      1.359673e+07\n",
              "3   2021           Alvie      2.128886e+07\n",
              "4   2020           Barry      1.493190e+07\n",
              "..   ...             ...               ...\n",
              "95  2021          Weston      1.856843e+07\n",
              "96  2020      Williamson      1.304520e+07\n",
              "97  2021      Williamson      2.265814e+07\n",
              "98  2020         Yaslene      1.576214e+07\n",
              "99  2021         Yaslene      2.352779e+07\n",
              "\n",
              "[100 rows x 3 columns]"
            ]
          },
          "execution_count": 44,
          "metadata": {},
          "output_type": "execute_result"
        }
      ],
      "source": [
        "# Using pandasql to write SQL queries\n",
        "sql_query = \"\"\"\n",
        "SELECT\n",
        "    strftime('%Y', date) AS year,\n",
        "    consultant_name,\n",
        "    SUM(revenue_excl_VAT) AS revenue_excl_VAT\n",
        "FROM result\n",
        "GROUP BY consultant_name, year\n",
        "\"\"\"\n",
        "\n",
        "# The Query result\n",
        "query_result = ps.sqldf(sql_query, locals())\n",
        "\n",
        "# Display the result\n",
        "pd.DataFrame(query_result)\n",
        "query_result"
      ]
    }
  ],
  "metadata": {
    "kernelspec": {
      "display_name": "Python 3 (ipykernel)",
      "language": "python",
      "name": "python3"
    },
    "language_info": {
      "codemirror_mode": {
        "name": "ipython",
        "version": 3
      },
      "file_extension": ".py",
      "mimetype": "text/x-python",
      "name": "python",
      "nbconvert_exporter": "python",
      "pygments_lexer": "ipython3",
      "version": "3.11.5"
    },
    "colab": {
      "provenance": [],
      "include_colab_link": true
    }
  },
  "nbformat": 4,
  "nbformat_minor": 5
}